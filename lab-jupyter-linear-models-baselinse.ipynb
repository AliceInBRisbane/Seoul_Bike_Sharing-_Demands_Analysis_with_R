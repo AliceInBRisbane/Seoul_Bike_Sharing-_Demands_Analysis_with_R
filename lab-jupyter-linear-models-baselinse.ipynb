{
 "cells": [
  {
   "cell_type": "markdown",
   "metadata": {},
   "source": [
    "<center>\n",
    "<img src=\"https://cf-courses-data.s3.us.cloud-object-storage.appdomain.cloud/IBMDeveloperSkillsNetwork-RP0321EN-SkillsNetwork/labs/module_1/images/SN_web_lightmode.png\" width=\"300\"> \n",
    "</center>\n"
   ]
  },
  {
   "cell_type": "markdown",
   "metadata": {},
   "source": [
    "<h1>Predict Hourly Rented Bike Count using Basic Linear Regression Models</h1>\n",
    "\n",
    "Estimated time needed: **90** minutes\n"
   ]
  },
  {
   "cell_type": "markdown",
   "metadata": {},
   "source": [
    "## Lab Overview:\n",
    "\n",
    "Now that you have performed exploratory analysis on the bike sharing demand dataset and obtained some insights on the attributes, it's time to build predictive models to predict the hourly rented bike count using related weather and date information.\n",
    "\n",
    "In this lab, you will be asked to use `tidymodels` to build some baseline linear regression models:\n",
    "- **TASK: Split data into training and testing datasets**\n",
    "- **TASK: Build a linear regression model using only the weather variables**\n",
    "- **TASK: Build a linear regression model using both weather and date variables**\n",
    "- **TASK: Evaluate the models and identify important variables**\n",
    "\n",
    "Let's start!\n"
   ]
  },
  {
   "cell_type": "markdown",
   "metadata": {},
   "source": [
    "The tidyverse and the tidymodels packages can be used to produce high quality statistical and machine learning models. The Tidyverse library is a useful tool that provides various tools for data visualization, data manipulation, and read various datasets into a data frame; our Jupyter notebook platforms have a built-in Tidymodels, Tidyverse and rlang libraries, so we do not need to install these packages prior to loading library. However, if you decide to run this lab on your RStudio Desktop locally on your machine, you can remove the commented lines of code to install these packages before loading.\n"
   ]
  },
  {
   "cell_type": "code",
   "execution_count": null,
   "metadata": {},
   "outputs": [],
   "source": [
    "# It may take several minutes to install those libraries in Watson Studio\n",
    "# install.packages(\"rlang\")\n",
    "# install.packages(\"tidymodels\")"
   ]
  },
  {
   "cell_type": "code",
   "execution_count": 3,
   "metadata": {
    "tags": []
   },
   "outputs": [
    {
     "name": "stderr",
     "output_type": "stream",
     "text": [
      "── Attaching packages ────────────────────────────────────── tidymodels 0.1.0 ──\n",
      "✔ broom     0.5.6      ✔ recipes   0.1.12\n",
      "✔ dials     0.0.6      ✔ rsample   0.0.5 \n",
      "✔ dplyr     0.8.5      ✔ tibble    3.0.1 \n",
      "✔ ggplot2   3.3.0      ✔ tune      0.1.0 \n",
      "✔ infer     0.5.1      ✔ workflows 0.1.1 \n",
      "✔ parsnip   0.1.0      ✔ yardstick 0.0.6 \n",
      "✔ purrr     0.3.4      \n",
      "── Conflicts ───────────────────────────────────────── tidymodels_conflicts() ──\n",
      "✖ purrr::discard()  masks scales::discard()\n",
      "✖ dplyr::filter()   masks stats::filter()\n",
      "✖ dplyr::lag()      masks stats::lag()\n",
      "✖ ggplot2::margin() masks dials::margin()\n",
      "✖ recipes::step()   masks stats::step()\n",
      "── Attaching packages ─────────────────────────────────────── tidyverse 1.3.0 ──\n",
      "✔ readr   1.3.1     ✔ forcats 0.5.0\n",
      "✔ stringr 1.4.0     \n",
      "── Conflicts ────────────────────────────────────────── tidyverse_conflicts() ──\n",
      "✖ readr::col_factor() masks scales::col_factor()\n",
      "✖ purrr::discard()    masks scales::discard()\n",
      "✖ dplyr::filter()     masks stats::filter()\n",
      "✖ stringr::fixed()    masks recipes::fixed()\n",
      "✖ dplyr::lag()        masks stats::lag()\n",
      "✖ ggplot2::margin()   masks dials::margin()\n",
      "✖ readr::spec()       masks yardstick::spec()\n"
     ]
    }
   ],
   "source": [
    "library(\"tidymodels\")\n",
    "library(\"tidyverse\")\n",
    "library(\"stringr\")"
   ]
  },
  {
   "cell_type": "markdown",
   "metadata": {},
   "source": [
    "The `seoul_bike_sharing_converted_normalized.csv` will be our main dataset which has following variables:\n",
    "\n",
    "The response variable:\n",
    "- `RENTED BIKE COUNT`- Count of bikes rented at each hour\n",
    "\n",
    "Weather predictor variables:\n",
    "- `TEMPERATURE` - Temperature in Celsius\n",
    "- `HUMIDITY` - Unit is `%`\n",
    "- `WIND_SPEED` - Unit is `m/s`\n",
    "- `VISIBILITY` - Multiplied by 10m\n",
    "- `DEW_POINT_TEMPERATURE` - The temperature to which the air would have to cool down in order to reach saturation, unit is Celsius\n",
    "- `SOLAR_RADIATION` - MJ/m2\n",
    "- `RAINFALL` - mm\n",
    "- `SNOWFALL` - cm\n",
    "\n",
    "Date/time predictor variables:\n",
    "- `DATE` - Year-month-day\n",
    "- `HOUR`- Hour of he day\n",
    "- `FUNCTIONAL DAY` - NoFunc(Non Functional Hours), Fun(Functional hours)\n",
    "- `HOLIDAY` - Holiday/No holiday\n",
    "- `SEASONS` - Winter, Spring, Summer, Autumn\n"
   ]
  },
  {
   "cell_type": "markdown",
   "metadata": {},
   "source": [
    "Let's read the dataset as a dataframe first:\n"
   ]
  },
  {
   "cell_type": "code",
   "execution_count": 4,
   "metadata": {
    "tags": []
   },
   "outputs": [
    {
     "name": "stderr",
     "output_type": "stream",
     "text": [
      "Parsed with column specification:\n",
      "cols(\n",
      "  .default = col_double(),\n",
      "  DATE = col_character(),\n",
      "  FUNCTIONING_DAY = col_character()\n",
      ")\n",
      "See spec(...) for full column specifications.\n"
     ]
    },
    {
     "data": {
      "text/plain": [
       "cols(\n",
       "  DATE = col_character(),\n",
       "  RENTED_BIKE_COUNT = col_double(),\n",
       "  TEMPERATURE = col_double(),\n",
       "  HUMIDITY = col_double(),\n",
       "  WIND_SPEED = col_double(),\n",
       "  VISIBILITY = col_double(),\n",
       "  DEW_POINT_TEMPERATURE = col_double(),\n",
       "  SOLAR_RADIATION = col_double(),\n",
       "  RAINFALL = col_double(),\n",
       "  SNOWFALL = col_double(),\n",
       "  FUNCTIONING_DAY = col_character(),\n",
       "  `0` = col_double(),\n",
       "  `1` = col_double(),\n",
       "  `10` = col_double(),\n",
       "  `11` = col_double(),\n",
       "  `12` = col_double(),\n",
       "  `13` = col_double(),\n",
       "  `14` = col_double(),\n",
       "  `15` = col_double(),\n",
       "  `16` = col_double(),\n",
       "  `17` = col_double(),\n",
       "  `18` = col_double(),\n",
       "  `19` = col_double(),\n",
       "  `2` = col_double(),\n",
       "  `20` = col_double(),\n",
       "  `21` = col_double(),\n",
       "  `22` = col_double(),\n",
       "  `23` = col_double(),\n",
       "  `3` = col_double(),\n",
       "  `4` = col_double(),\n",
       "  `5` = col_double(),\n",
       "  `6` = col_double(),\n",
       "  `7` = col_double(),\n",
       "  `8` = col_double(),\n",
       "  `9` = col_double(),\n",
       "  AUTUMN = col_double(),\n",
       "  SPRING = col_double(),\n",
       "  SUMMER = col_double(),\n",
       "  WINTER = col_double(),\n",
       "  HOLIDAY = col_double(),\n",
       "  NO_HOLIDAY = col_double()\n",
       ")"
      ]
     },
     "metadata": {},
     "output_type": "display_data"
    }
   ],
   "source": [
    "# Dataset URL\n",
    "dataset_url <- \"https://cf-courses-data.s3.us.cloud-object-storage.appdomain.cloud/IBMDeveloperSkillsNetwork-RP0321EN-SkillsNetwork/labs/datasets/seoul_bike_sharing_converted_normalized.csv\"\n",
    "bike_sharing_df <- read_csv(dataset_url)\n",
    "spec(bike_sharing_df)"
   ]
  },
  {
   "cell_type": "markdown",
   "metadata": {},
   "source": [
    "We won't be using the `DATE` column, because 'as is', it basically acts like an data entry index. (However, given more time, we could use the `DATE` colum to create a 'day of week' or 'isWeekend' column, which we might expect has an affect on preferred bike rental times.) We also do not need the `FUNCTIONAL DAY` column because it only has one distinct value remaining (`YES`) after missing value processing.\n"
   ]
  },
  {
   "cell_type": "code",
   "execution_count": 5,
   "metadata": {
    "tags": []
   },
   "outputs": [],
   "source": [
    "bike_sharing_df <- bike_sharing_df %>% \n",
    "                   select(-DATE, -FUNCTIONING_DAY)"
   ]
  },
  {
   "cell_type": "markdown",
   "metadata": {},
   "source": [
    "# TASK: Split training and testing data\n"
   ]
  },
  {
   "cell_type": "markdown",
   "metadata": {},
   "source": [
    "First, we need to split the full dataset into training and testing datasets.\n",
    "\n",
    "The training dataset will be used for fitting regression models, and the testing dataset will be used to evaluate the trained models.\n"
   ]
  },
  {
   "cell_type": "markdown",
   "metadata": {},
   "source": [
    "_TODO:_ Use the `initial_split()`, `training()`, and `testing()` functions to generate a training dataset consisting of 75% of the original dataset, and a testing dataset using the remaining 25%. \n"
   ]
  },
  {
   "cell_type": "code",
   "execution_count": 6,
   "metadata": {
    "tags": []
   },
   "outputs": [],
   "source": [
    "# Use the `initial_split()`, `training()`, and `testing()` functions to split the dataset\n",
    "# With seed 1234\n",
    "set.seed(1234)\n",
    "# prop = 3/4\n",
    "bike_sharing_split <- initial_split(bike_sharing_df, prop = 0.75)\n",
    "# train_data\n",
    "bike_sharing_training <- training(bike_sharing_split)\n",
    "# test_data\n",
    "bike_sharing_testing <- testing(bike_sharing_split)"
   ]
  },
  {
   "cell_type": "markdown",
   "metadata": {},
   "source": [
    "# TASK: Build a linear regression model using weather variables only\n"
   ]
  },
  {
   "cell_type": "markdown",
   "metadata": {},
   "source": [
    "As you could imagine, weather conditions may affect people's bike renting decisions. For example, on a cold and rainy day, you may choose alternate transportation such as a bus or taxi.  While on a nice sunny day, you may want to rent a bike for a short-distance travel.\n"
   ]
  },
  {
   "cell_type": "markdown",
   "metadata": {},
   "source": [
    "Thus, can we predict a city's bike-sharing demand based on its local weather information? Let's try to build a regression model to do that.\n"
   ]
  },
  {
   "cell_type": "markdown",
   "metadata": {},
   "source": [
    "_TODO:_ Build a linear regression model called `lm_model_weather` using the following variables:\n",
    "\n",
    "- `TEMPERATURE` - Temperature in Celsius\n",
    "- `HUMIDITY` - Unit is `%`\n",
    "- `WIND_SPEED` - Unit is `m/s`\n",
    "- `VISIBILITY` - Multiplied by 10m\n",
    "- `DEW_POINT_TEMPERATURE` - The temperature to which the air would have to cool down in order to reach saturation, unit is Celsius\n",
    "- `SOLAR_RADIATION` - MJ/m2\n",
    "- `RAINFALL` - mm\n",
    "- `SNOWFALL` - cm\n"
   ]
  },
  {
   "cell_type": "markdown",
   "metadata": {},
   "source": [
    "Define a linear regression model specification.\n"
   ]
  },
  {
   "cell_type": "code",
   "execution_count": 7,
   "metadata": {
    "tags": []
   },
   "outputs": [
    {
     "name": "stdout",
     "output_type": "stream",
     "text": [
      "Linear Regression Model Specification (regression)\n",
      "\n",
      "Computational engine: lm \n",
      "\n"
     ]
    }
   ],
   "source": [
    "# Use `linear_reg()` with engine `lm` and mode `regression`\n",
    "# lm_model_weather <- linear_reg(mode = \"regression\", engine = \"lm\")\n",
    "lm_model_weather <- linear_reg(mode = \"regression\") %>%\n",
    "  set_engine(\"lm\")\n",
    "print(lm_model_weather)"
   ]
  },
  {
   "cell_type": "markdown",
   "metadata": {},
   "source": [
    "Fit a model with the response variable `RENTED_BIKE_COUNT` and predictor variables `TEMPERATURE + HUMIDITY + WIND_SPEED + VISIBILITY + DEW_POINT_TEMPERATURE + SOLAR_RADIATION + RAINFALL + SNOWFALL`\n"
   ]
  },
  {
   "cell_type": "code",
   "execution_count": 9,
   "metadata": {
    "tags": []
   },
   "outputs": [],
   "source": [
    "# Fit the model called `lm_model_weather`\n",
    "# RENTED_BIKE_COUNT ~ TEMPERATURE + HUMIDITY + WIND_SPEED + VISIBILITY + DEW_POINT_TEMPERATURE + SOLAR_RADIATION + RAINFALL + SNOWFALL,  with the training data\n",
    "training_fit <- lm_model_weather %>%\n",
    "  fit(RENTED_BIKE_COUNT ~ TEMPERATURE + HUMIDITY + WIND_SPEED + VISIBILITY + DEW_POINT_TEMPERATURE + SOLAR_RADIATION + RAINFALL + SNOWFALL, data = bike_sharing_training)"
   ]
  },
  {
   "cell_type": "markdown",
   "metadata": {},
   "source": [
    "Print the fit summary for the `lm_model_weather` model.\n"
   ]
  },
  {
   "cell_type": "code",
   "execution_count": 10,
   "metadata": {
    "tags": []
   },
   "outputs": [
    {
     "name": "stdout",
     "output_type": "stream",
     "text": [
      "parsnip model object\n",
      "\n",
      "Fit time:  4ms \n",
      "\n",
      "Call:\n",
      "stats::lm(formula = formula, data = data)\n",
      "\n",
      "Coefficients:\n",
      "          (Intercept)            TEMPERATURE               HUMIDITY  \n",
      "              147.647               2452.112               -895.830  \n",
      "           WIND_SPEED             VISIBILITY  DEW_POINT_TEMPERATURE  \n",
      "              402.183                  5.356               -368.982  \n",
      "      SOLAR_RADIATION               RAINFALL               SNOWFALL  \n",
      "             -435.703              -1771.467                354.761  \n",
      "\n",
      "        Length Class      Mode   \n",
      "lvl      0     -none-     NULL   \n",
      "spec     5     linear_reg list   \n",
      "fit     12     lm         list   \n",
      "preproc  1     -none-     list   \n",
      "elapsed  5     proc_time  numeric\n"
     ]
    }
   ],
   "source": [
    "# print(lm_model_weather$fit)\n",
    "print(training_fit)\n",
    "print(summary(training_fit))"
   ]
  },
  {
   "cell_type": "markdown",
   "metadata": {},
   "source": [
    "You should see the model details such as formula, residuals, and coefficients.\n"
   ]
  },
  {
   "cell_type": "markdown",
   "metadata": {},
   "source": [
    "# TASK: Build a linear regression model using all variables\n"
   ]
  },
  {
   "cell_type": "markdown",
   "metadata": {},
   "source": [
    "In addition to weather, there could be other factors that may affect bike rental demand, such as the time of a day or if today is a holiday or not.\n"
   ]
  },
  {
   "cell_type": "markdown",
   "metadata": {},
   "source": [
    "Next, let's build a linear regression model using all variables (weather + date/time) in this task.\n"
   ]
  },
  {
   "cell_type": "markdown",
   "metadata": {},
   "source": [
    "_TODO:_ Build a linear regression model called `lm_model_all` using all variables `RENTED_BIKE_COUNT ~ .`\n"
   ]
  },
  {
   "cell_type": "code",
   "execution_count": 11,
   "metadata": {
    "tags": []
   },
   "outputs": [
    {
     "name": "stdout",
     "output_type": "stream",
     "text": [
      "Linear Regression Model Specification (regression)\n",
      "\n",
      "Computational engine: lm \n",
      "\n"
     ]
    }
   ],
   "source": [
    "# Fit the model called `lm_model_all`\n",
    "# `RENTED_BIKE_COUNT ~ .` means use all other variables except for the response variable\n",
    "lm_model_all <- linear_reg(mode = \"regression\") %>%\n",
    "  set_engine(\"lm\")\n",
    "print(lm_model_all)"
   ]
  },
  {
   "cell_type": "markdown",
   "metadata": {},
   "source": [
    "Print the fit summary for `lm_model_all`.\n"
   ]
  },
  {
   "cell_type": "code",
   "execution_count": 12,
   "metadata": {
    "tags": []
   },
   "outputs": [
    {
     "name": "stdout",
     "output_type": "stream",
     "text": [
      "parsnip model object\n",
      "\n",
      "Fit time:  15ms \n",
      "\n",
      "Call:\n",
      "stats::lm(formula = formula, data = data)\n",
      "\n",
      "Coefficients:\n",
      "          (Intercept)            TEMPERATURE               HUMIDITY  \n",
      "              216.584                810.604               -920.587  \n",
      "           WIND_SPEED             VISIBILITY  DEW_POINT_TEMPERATURE  \n",
      "               -9.313                 24.368                632.384  \n",
      "      SOLAR_RADIATION               RAINFALL               SNOWFALL  \n",
      "              249.752              -1982.940                232.451  \n",
      "                  `0`                    `1`                   `10`  \n",
      "              -12.500               -125.701               -222.233  \n",
      "                 `11`                   `12`                   `13`  \n",
      "             -231.428               -194.605               -189.528  \n",
      "                 `14`                   `15`                   `16`  \n",
      "             -183.060               -103.127                 43.598  \n",
      "                 `17`                   `18`                   `19`  \n",
      "              306.732                782.842                519.456  \n",
      "                  `2`                   `20`                   `21`  \n",
      "             -259.946                394.635                430.185  \n",
      "                 `22`                   `23`                    `3`  \n",
      "              322.664                 90.181               -327.245  \n",
      "                  `4`                    `5`                    `6`  \n",
      "             -389.558               -379.055               -216.689  \n",
      "                  `7`                    `8`                    `9`  \n",
      "              110.492                502.354                     NA  \n",
      "               AUTUMN                 SPRING                 SUMMER  \n",
      "              357.978                194.421                172.901  \n",
      "               WINTER                HOLIDAY             NO_HOLIDAY  \n",
      "                   NA               -129.167                     NA  \n",
      "\n",
      "        Length Class      Mode   \n",
      "lvl      0     -none-     NULL   \n",
      "spec     5     linear_reg list   \n",
      "fit     12     lm         list   \n",
      "preproc  1     -none-     list   \n",
      "elapsed  5     proc_time  numeric\n"
     ]
    }
   ],
   "source": [
    "all_fit <- lm_model_all %>%\n",
    "  fit(RENTED_BIKE_COUNT ~ ., data = bike_sharing_training)\n",
    "print(all_fit)\n",
    "print(summary(all_fit))"
   ]
  },
  {
   "cell_type": "markdown",
   "metadata": {},
   "source": [
    "Now you have built two basic linear regression models with different predictor variables, let's evaluate which model has better performance,\n"
   ]
  },
  {
   "cell_type": "markdown",
   "metadata": {},
   "source": [
    "# TASK: Model evaluation and identification of important variables\n"
   ]
  },
  {
   "cell_type": "markdown",
   "metadata": {},
   "source": [
    "Now that you have built two regression models, `lm_model_weather` and `lm_model_all`, with different predictor variables, you need to compare their performance to see which one is better.\n"
   ]
  },
  {
   "cell_type": "markdown",
   "metadata": {},
   "source": [
    "In this project, you will be asked to use very important metrics that are often used in Statistics to determine the performance of a model:\n",
    "\n",
    "1.  R^2 / R-squared \n",
    "2.  Root Mean Squared Error (RMSE)\n",
    "\n",
    "**R-squared**\n",
    "\n",
    "<p>R squared, also known as the coefficient of determination, is a measure to indicate how close the data is to the fitted regression line. The value of R-squared is the percentage of variation of the response variable (y) that is explained by a linear model.</p>\n",
    "\n",
    "**Root Mean Squared Error (RMSE)**\n",
    "$$\n",
    "RMSE = \\sqrt{MSE}\n",
    "$$\n",
    "\n",
    "As you know, the Mean Squared Error measures the average of the squares of errors, where 'error' is the difference between the actual value ($y$) and the estimated value ($ŷ$). \n",
    "Another metric that is related to MSE is **Root Mean Squared Error (RMSE)** and is simply the square root of MSE.\n"
   ]
  },
  {
   "cell_type": "markdown",
   "metadata": {},
   "source": [
    "We first need to test the `lm_model_weather` and `lm_model_all` models against the test dataset `test_data`, and generate `RENTED_BIKE_COUNT` prediction results.\n"
   ]
  },
  {
   "cell_type": "markdown",
   "metadata": {},
   "source": [
    "_TODO:_ Make predictions on the testing dataset using both `lm_model_weather` and `lm_model_all` models\n"
   ]
  },
  {
   "cell_type": "code",
   "execution_count": 13,
   "metadata": {
    "tags": []
   },
   "outputs": [
    {
     "name": "stderr",
     "output_type": "stream",
     "text": [
      "Warning message in predict.lm(object = object$fit, newdata = new_data, type = \"response\"):\n",
      "“prediction from a rank-deficient fit may be misleading”"
     ]
    },
    {
     "data": {
      "text/html": [
       "<table>\n",
       "<caption>A tibble: 6 × 2</caption>\n",
       "<thead>\n",
       "\t<tr><th scope=col>.pred</th><th scope=col>truth</th></tr>\n",
       "\t<tr><th scope=col>&lt;dbl&gt;</th><th scope=col>&lt;dbl&gt;</th></tr>\n",
       "</thead>\n",
       "<tbody>\n",
       "\t<tr><td>391.5112</td><td>254</td></tr>\n",
       "\t<tr><td>293.4206</td><td>204</td></tr>\n",
       "\t<tr><td>250.5649</td><td>107</td></tr>\n",
       "\t<tr><td>309.0461</td><td>100</td></tr>\n",
       "\t<tr><td>228.2566</td><td>460</td></tr>\n",
       "\t<tr><td>241.6479</td><td>930</td></tr>\n",
       "</tbody>\n",
       "</table>\n"
      ],
      "text/latex": [
       "A tibble: 6 × 2\n",
       "\\begin{tabular}{ll}\n",
       " .pred & truth\\\\\n",
       " <dbl> & <dbl>\\\\\n",
       "\\hline\n",
       "\t 391.5112 & 254\\\\\n",
       "\t 293.4206 & 204\\\\\n",
       "\t 250.5649 & 107\\\\\n",
       "\t 309.0461 & 100\\\\\n",
       "\t 228.2566 & 460\\\\\n",
       "\t 241.6479 & 930\\\\\n",
       "\\end{tabular}\n"
      ],
      "text/markdown": [
       "\n",
       "A tibble: 6 × 2\n",
       "\n",
       "| .pred &lt;dbl&gt; | truth &lt;dbl&gt; |\n",
       "|---|---|\n",
       "| 391.5112 | 254 |\n",
       "| 293.4206 | 204 |\n",
       "| 250.5649 | 107 |\n",
       "| 309.0461 | 100 |\n",
       "| 228.2566 | 460 |\n",
       "| 241.6479 | 930 |\n",
       "\n"
      ],
      "text/plain": [
       "  .pred    truth\n",
       "1 391.5112 254  \n",
       "2 293.4206 204  \n",
       "3 250.5649 107  \n",
       "4 309.0461 100  \n",
       "5 228.2566 460  \n",
       "6 241.6479 930  "
      ]
     },
     "metadata": {},
     "output_type": "display_data"
    },
    {
     "data": {
      "text/html": [
       "<table>\n",
       "<caption>A tibble: 6 × 2</caption>\n",
       "<thead>\n",
       "\t<tr><th scope=col>.pred</th><th scope=col>truth</th></tr>\n",
       "\t<tr><th scope=col>&lt;dbl&gt;</th><th scope=col>&lt;dbl&gt;</th></tr>\n",
       "</thead>\n",
       "<tbody>\n",
       "\t<tr><td> 198.90633</td><td>254</td></tr>\n",
       "\t<tr><td>  73.82145</td><td>204</td></tr>\n",
       "\t<tr><td>-156.55532</td><td>107</td></tr>\n",
       "\t<tr><td>-195.80875</td><td>100</td></tr>\n",
       "\t<tr><td> 264.36386</td><td>460</td></tr>\n",
       "\t<tr><td> 657.77254</td><td>930</td></tr>\n",
       "</tbody>\n",
       "</table>\n"
      ],
      "text/latex": [
       "A tibble: 6 × 2\n",
       "\\begin{tabular}{ll}\n",
       " .pred & truth\\\\\n",
       " <dbl> & <dbl>\\\\\n",
       "\\hline\n",
       "\t  198.90633 & 254\\\\\n",
       "\t   73.82145 & 204\\\\\n",
       "\t -156.55532 & 107\\\\\n",
       "\t -195.80875 & 100\\\\\n",
       "\t  264.36386 & 460\\\\\n",
       "\t  657.77254 & 930\\\\\n",
       "\\end{tabular}\n"
      ],
      "text/markdown": [
       "\n",
       "A tibble: 6 × 2\n",
       "\n",
       "| .pred &lt;dbl&gt; | truth &lt;dbl&gt; |\n",
       "|---|---|\n",
       "|  198.90633 | 254 |\n",
       "|   73.82145 | 204 |\n",
       "| -156.55532 | 107 |\n",
       "| -195.80875 | 100 |\n",
       "|  264.36386 | 460 |\n",
       "|  657.77254 | 930 |\n",
       "\n"
      ],
      "text/plain": [
       "  .pred      truth\n",
       "1  198.90633 254  \n",
       "2   73.82145 204  \n",
       "3 -156.55532 107  \n",
       "4 -195.80875 100  \n",
       "5  264.36386 460  \n",
       "6  657.77254 930  "
      ]
     },
     "metadata": {},
     "output_type": "display_data"
    }
   ],
   "source": [
    "# Use predict() function to generate test results for `lm_model_weather` and `lm_model_all`\n",
    "weather_train_results <- training_fit %>%\n",
    "  predict(new_data = bike_sharing_training)\n",
    "\n",
    "all_train_results <- all_fit %>%\n",
    "  predict(new_data = bike_sharing_training)\n",
    "\n",
    "# and generate two test results dataframe with a truth column:\n",
    "weather_train_results <- weather_train_results %>%\n",
    "  mutate(truth = bike_sharing_training$RENTED_BIKE_COUNT)\n",
    "\n",
    "all_train_results <- all_train_results %>%\n",
    "  mutate(truth = bike_sharing_training$RENTED_BIKE_COUNT)\n",
    "# test_results_weather for lm_model_weather model\n",
    "head(weather_train_results)\n",
    "# test_results_all for lm_model_all\n",
    "head(all_train_results)"
   ]
  },
  {
   "cell_type": "markdown",
   "metadata": {},
   "source": [
    "NOTE: if you happen to see a warning like : `prediction from a rank-deficient fit may be misleading`, it may be casued by collinearity in the predictor variables. Collinearity means that one predictor variable can be predicted from other predictor variables to some degree. For example, `RAINFALL` could be predicted by `HUMIDITY`.\n",
    "\n",
    "But dont worry, you will address `glmnet` models (Lasso and Elastic-Net Regularized Generalized Linear Models) instead of regular `regression` models to solve this issue and futher improve the model performance.\n"
   ]
  },
  {
   "cell_type": "markdown",
   "metadata": {},
   "source": [
    "Next, let's calculate and print the R-squared and RMSE for the two test results\n"
   ]
  },
  {
   "cell_type": "markdown",
   "metadata": {},
   "source": [
    "_TODO:_ Use `rsq()` and `rmse()` functions to calculate R-squared and RMSE metrics for the two test results\n"
   ]
  },
  {
   "cell_type": "code",
   "execution_count": 14,
   "metadata": {
    "tags": []
   },
   "outputs": [
    {
     "data": {
      "text/html": [
       "<table>\n",
       "<caption>A tibble: 1 × 3</caption>\n",
       "<thead>\n",
       "\t<tr><th scope=col>.metric</th><th scope=col>.estimator</th><th scope=col>.estimate</th></tr>\n",
       "\t<tr><th scope=col>&lt;chr&gt;</th><th scope=col>&lt;chr&gt;</th><th scope=col>&lt;dbl&gt;</th></tr>\n",
       "</thead>\n",
       "<tbody>\n",
       "\t<tr><td>rsq</td><td>standard</td><td>0.4280951</td></tr>\n",
       "</tbody>\n",
       "</table>\n"
      ],
      "text/latex": [
       "A tibble: 1 × 3\n",
       "\\begin{tabular}{lll}\n",
       " .metric & .estimator & .estimate\\\\\n",
       " <chr> & <chr> & <dbl>\\\\\n",
       "\\hline\n",
       "\t rsq & standard & 0.4280951\\\\\n",
       "\\end{tabular}\n"
      ],
      "text/markdown": [
       "\n",
       "A tibble: 1 × 3\n",
       "\n",
       "| .metric &lt;chr&gt; | .estimator &lt;chr&gt; | .estimate &lt;dbl&gt; |\n",
       "|---|---|---|\n",
       "| rsq | standard | 0.4280951 |\n",
       "\n"
      ],
      "text/plain": [
       "  .metric .estimator .estimate\n",
       "1 rsq     standard   0.4280951"
      ]
     },
     "metadata": {},
     "output_type": "display_data"
    },
    {
     "data": {
      "text/html": [
       "<table>\n",
       "<caption>A tibble: 1 × 3</caption>\n",
       "<thead>\n",
       "\t<tr><th scope=col>.metric</th><th scope=col>.estimator</th><th scope=col>.estimate</th></tr>\n",
       "\t<tr><th scope=col>&lt;chr&gt;</th><th scope=col>&lt;chr&gt;</th><th scope=col>&lt;dbl&gt;</th></tr>\n",
       "</thead>\n",
       "<tbody>\n",
       "\t<tr><td>rsq</td><td>standard</td><td>0.6621546</td></tr>\n",
       "</tbody>\n",
       "</table>\n"
      ],
      "text/latex": [
       "A tibble: 1 × 3\n",
       "\\begin{tabular}{lll}\n",
       " .metric & .estimator & .estimate\\\\\n",
       " <chr> & <chr> & <dbl>\\\\\n",
       "\\hline\n",
       "\t rsq & standard & 0.6621546\\\\\n",
       "\\end{tabular}\n"
      ],
      "text/markdown": [
       "\n",
       "A tibble: 1 × 3\n",
       "\n",
       "| .metric &lt;chr&gt; | .estimator &lt;chr&gt; | .estimate &lt;dbl&gt; |\n",
       "|---|---|---|\n",
       "| rsq | standard | 0.6621546 |\n",
       "\n"
      ],
      "text/plain": [
       "  .metric .estimator .estimate\n",
       "1 rsq     standard   0.6621546"
      ]
     },
     "metadata": {},
     "output_type": "display_data"
    },
    {
     "data": {
      "text/html": [
       "<table>\n",
       "<caption>A tibble: 1 × 3</caption>\n",
       "<thead>\n",
       "\t<tr><th scope=col>.metric</th><th scope=col>.estimator</th><th scope=col>.estimate</th></tr>\n",
       "\t<tr><th scope=col>&lt;chr&gt;</th><th scope=col>&lt;chr&gt;</th><th scope=col>&lt;dbl&gt;</th></tr>\n",
       "</thead>\n",
       "<tbody>\n",
       "\t<tr><td>rmse</td><td>standard</td><td>488.3005</td></tr>\n",
       "</tbody>\n",
       "</table>\n"
      ],
      "text/latex": [
       "A tibble: 1 × 3\n",
       "\\begin{tabular}{lll}\n",
       " .metric & .estimator & .estimate\\\\\n",
       " <chr> & <chr> & <dbl>\\\\\n",
       "\\hline\n",
       "\t rmse & standard & 488.3005\\\\\n",
       "\\end{tabular}\n"
      ],
      "text/markdown": [
       "\n",
       "A tibble: 1 × 3\n",
       "\n",
       "| .metric &lt;chr&gt; | .estimator &lt;chr&gt; | .estimate &lt;dbl&gt; |\n",
       "|---|---|---|\n",
       "| rmse | standard | 488.3005 |\n",
       "\n"
      ],
      "text/plain": [
       "  .metric .estimator .estimate\n",
       "1 rmse    standard   488.3005 "
      ]
     },
     "metadata": {},
     "output_type": "display_data"
    },
    {
     "data": {
      "text/html": [
       "<table>\n",
       "<caption>A tibble: 1 × 3</caption>\n",
       "<thead>\n",
       "\t<tr><th scope=col>.metric</th><th scope=col>.estimator</th><th scope=col>.estimate</th></tr>\n",
       "\t<tr><th scope=col>&lt;chr&gt;</th><th scope=col>&lt;chr&gt;</th><th scope=col>&lt;dbl&gt;</th></tr>\n",
       "</thead>\n",
       "<tbody>\n",
       "\t<tr><td>rmse</td><td>standard</td><td>375.305</td></tr>\n",
       "</tbody>\n",
       "</table>\n"
      ],
      "text/latex": [
       "A tibble: 1 × 3\n",
       "\\begin{tabular}{lll}\n",
       " .metric & .estimator & .estimate\\\\\n",
       " <chr> & <chr> & <dbl>\\\\\n",
       "\\hline\n",
       "\t rmse & standard & 375.305\\\\\n",
       "\\end{tabular}\n"
      ],
      "text/markdown": [
       "\n",
       "A tibble: 1 × 3\n",
       "\n",
       "| .metric &lt;chr&gt; | .estimator &lt;chr&gt; | .estimate &lt;dbl&gt; |\n",
       "|---|---|---|\n",
       "| rmse | standard | 375.305 |\n",
       "\n"
      ],
      "text/plain": [
       "  .metric .estimator .estimate\n",
       "1 rmse    standard   375.305  "
      ]
     },
     "metadata": {},
     "output_type": "display_data"
    }
   ],
   "source": [
    "# rsq_weather <- rsq(...)\n",
    "# rsq_all <- rsq(...)\n",
    "\n",
    "# rmse_weather <- rmse(...)\n",
    "# rmse_all <- rmse(...)\n",
    "\n",
    "rsq_weather <- rsq(weather_train_results,\n",
    "  truth = truth,\n",
    "  estimate = .pred\n",
    ")\n",
    "rsq_all <- rsq(all_train_results,\n",
    "  truth = truth,\n",
    "  estimate = .pred\n",
    ")\n",
    "\n",
    "rmse_weather <- rmse(weather_train_results,\n",
    "  truth = truth,\n",
    "  estimate = .pred\n",
    ")\n",
    "rmse_all <- rmse(all_train_results,\n",
    "  truth = truth,\n",
    "  estimate = .pred\n",
    ")\n",
    "\n",
    "rsq_weather\n",
    "rsq_all\n",
    "rmse_weather\n",
    "rmse_all"
   ]
  },
  {
   "cell_type": "markdown",
   "metadata": {},
   "source": [
    "From these tables, you should find that the test results from `lm_model_all` are much better. It means that using both weather and datetime variables in the model generates better prediction results.\n"
   ]
  },
  {
   "cell_type": "markdown",
   "metadata": {},
   "source": [
    "Since `lm_model_all` has many predictor variables, let's check which predictor variables have larger coefficients. Variables with larger coefficients in the model means they attribute more in the prediction of `RENTED_BIKE_COUNT`. In addition, since all predictor variables are normalized to the same scale, 0 to 1, we thus can compare their coefficients directly.\n"
   ]
  },
  {
   "cell_type": "markdown",
   "metadata": {},
   "source": [
    "You could try building another regression model using the non-normalized `seoul_bike_sharing_converted.csv` dataset, and you would find that the coefficients are much different.\n"
   ]
  },
  {
   "cell_type": "markdown",
   "metadata": {},
   "source": [
    "First let's print all coefficients:\n"
   ]
  },
  {
   "cell_type": "code",
   "execution_count": 15,
   "metadata": {
    "tags": []
   },
   "outputs": [
    {
     "data": {
      "text/html": [
       "<table>\n",
       "<caption>A tibble: 36 × 5</caption>\n",
       "<thead>\n",
       "\t<tr><th scope=col>term</th><th scope=col>estimate</th><th scope=col>std.error</th><th scope=col>statistic</th><th scope=col>p.value</th></tr>\n",
       "\t<tr><th scope=col>&lt;chr&gt;</th><th scope=col>&lt;dbl&gt;</th><th scope=col>&lt;dbl&gt;</th><th scope=col>&lt;dbl&gt;</th><th scope=col>&lt;dbl&gt;</th></tr>\n",
       "</thead>\n",
       "<tbody>\n",
       "\t<tr><td>(Intercept)          </td><td>  216.584059</td><td> 50.67322</td><td>  4.2741329</td><td> 1.947061e-05</td></tr>\n",
       "\t<tr><td>TEMPERATURE          </td><td>  810.603987</td><td>209.03372</td><td>  3.8778623</td><td> 1.064486e-04</td></tr>\n",
       "\t<tr><td>HUMIDITY             </td><td> -920.586909</td><td> 97.24275</td><td> -9.4668947</td><td> 3.978466e-21</td></tr>\n",
       "\t<tr><td>WIND_SPEED           </td><td>   -9.313319</td><td> 40.26779</td><td> -0.2312846</td><td> 8.171012e-01</td></tr>\n",
       "\t<tr><td>VISIBILITY           </td><td>   24.368049</td><td> 20.23481</td><td>  1.2042639</td><td> 2.285328e-01</td></tr>\n",
       "\t<tr><td>DEW_POINT_TEMPERATURE</td><td>  632.384298</td><td>217.47791</td><td>  2.9078093</td><td> 3.652385e-03</td></tr>\n",
       "\t<tr><td>SOLAR_RADIATION      </td><td>  249.752454</td><td> 41.34675</td><td>  6.0404379</td><td> 1.624462e-09</td></tr>\n",
       "\t<tr><td>RAINFALL             </td><td>-1982.940423</td><td>143.64226</td><td>-13.8047146</td><td> 9.922612e-43</td></tr>\n",
       "\t<tr><td>SNOWFALL             </td><td>  232.450790</td><td>104.60901</td><td>  2.2220915</td><td> 2.631243e-02</td></tr>\n",
       "\t<tr><td>`0`                  </td><td>  -12.499804</td><td> 34.01006</td><td> -0.3675326</td><td> 7.132341e-01</td></tr>\n",
       "\t<tr><td>`1`                  </td><td> -125.701499</td><td> 34.57857</td><td> -3.6352430</td><td> 2.799291e-04</td></tr>\n",
       "\t<tr><td>`10`                 </td><td> -222.233262</td><td> 33.31558</td><td> -6.6705509</td><td> 2.764896e-11</td></tr>\n",
       "\t<tr><td>`11`                 </td><td> -231.428411</td><td> 33.98053</td><td> -6.8106172</td><td> 1.061643e-11</td></tr>\n",
       "\t<tr><td>`12`                 </td><td> -194.605041</td><td> 34.55857</td><td> -5.6311662</td><td> 1.867030e-08</td></tr>\n",
       "\t<tr><td>`13`                 </td><td> -189.528426</td><td> 35.19884</td><td> -5.3845072</td><td> 7.526455e-08</td></tr>\n",
       "\t<tr><td>`14`                 </td><td> -183.060291</td><td> 35.24584</td><td> -5.1938130</td><td> 2.124823e-07</td></tr>\n",
       "\t<tr><td>`15`                 </td><td> -103.126885</td><td> 35.09640</td><td> -2.9383890</td><td> 3.311170e-03</td></tr>\n",
       "\t<tr><td>`16`                 </td><td>   43.597895</td><td> 34.23026</td><td>  1.2736652</td><td> 2.028290e-01</td></tr>\n",
       "\t<tr><td>`17`                 </td><td>  306.732435</td><td> 34.27155</td><td>  8.9500589</td><td> 4.599800e-19</td></tr>\n",
       "\t<tr><td>`18`                 </td><td>  782.841507</td><td> 34.51207</td><td> 22.6831196</td><td>1.428163e-109</td></tr>\n",
       "\t<tr><td>`19`                 </td><td>  519.455508</td><td> 34.54060</td><td> 15.0389836</td><td> 3.001427e-50</td></tr>\n",
       "\t<tr><td>`2`                  </td><td> -259.946174</td><td> 34.57530</td><td> -7.5182614</td><td> 6.322812e-14</td></tr>\n",
       "\t<tr><td>`20`                 </td><td>  394.634676</td><td> 34.72886</td><td> 11.3633072</td><td> 1.234052e-29</td></tr>\n",
       "\t<tr><td>`21`                 </td><td>  430.185215</td><td> 34.33684</td><td> 12.5283880</td><td> 1.380106e-35</td></tr>\n",
       "\t<tr><td>`22`                 </td><td>  322.663949</td><td> 33.93497</td><td>  9.5083031</td><td> 2.689464e-21</td></tr>\n",
       "\t<tr><td>`23`                 </td><td>   90.180803</td><td> 33.97406</td><td>  2.6544016</td><td> 7.964847e-03</td></tr>\n",
       "\t<tr><td>`3`                  </td><td> -327.244955</td><td> 33.88966</td><td> -9.6561893</td><td> 6.555260e-22</td></tr>\n",
       "\t<tr><td>`4`                  </td><td> -389.558392</td><td> 34.03286</td><td>-11.4465363</td><td> 4.834550e-30</td></tr>\n",
       "\t<tr><td>`5`                  </td><td> -379.055209</td><td> 33.81771</td><td>-11.2087790</td><td> 6.910457e-29</td></tr>\n",
       "\t<tr><td>`6`                  </td><td> -216.689105</td><td> 34.16556</td><td> -6.3423250</td><td> 2.419940e-10</td></tr>\n",
       "\t<tr><td>`7`                  </td><td>  110.491959</td><td> 33.93040</td><td>  3.2564298</td><td> 1.134185e-03</td></tr>\n",
       "\t<tr><td>`8`                  </td><td>  502.353808</td><td> 33.50621</td><td> 14.9928559</td><td> 5.875496e-50</td></tr>\n",
       "\t<tr><td>AUTUMN               </td><td>  357.978265</td><td> 19.99659</td><td> 17.9019693</td><td> 5.967468e-70</td></tr>\n",
       "\t<tr><td>SPRING               </td><td>  194.421437</td><td> 19.21791</td><td> 10.1166801</td><td> 7.080230e-24</td></tr>\n",
       "\t<tr><td>SUMMER               </td><td>  172.901302</td><td> 29.04270</td><td>  5.9533473</td><td> 2.768259e-09</td></tr>\n",
       "\t<tr><td>HOLIDAY              </td><td> -129.167078</td><td> 22.44739</td><td> -5.7542142</td><td> 9.112956e-09</td></tr>\n",
       "</tbody>\n",
       "</table>\n"
      ],
      "text/latex": [
       "A tibble: 36 × 5\n",
       "\\begin{tabular}{lllll}\n",
       " term & estimate & std.error & statistic & p.value\\\\\n",
       " <chr> & <dbl> & <dbl> & <dbl> & <dbl>\\\\\n",
       "\\hline\n",
       "\t (Intercept)           &   216.584059 &  50.67322 &   4.2741329 &  1.947061e-05\\\\\n",
       "\t TEMPERATURE           &   810.603987 & 209.03372 &   3.8778623 &  1.064486e-04\\\\\n",
       "\t HUMIDITY              &  -920.586909 &  97.24275 &  -9.4668947 &  3.978466e-21\\\\\n",
       "\t WIND\\_SPEED            &    -9.313319 &  40.26779 &  -0.2312846 &  8.171012e-01\\\\\n",
       "\t VISIBILITY            &    24.368049 &  20.23481 &   1.2042639 &  2.285328e-01\\\\\n",
       "\t DEW\\_POINT\\_TEMPERATURE &   632.384298 & 217.47791 &   2.9078093 &  3.652385e-03\\\\\n",
       "\t SOLAR\\_RADIATION       &   249.752454 &  41.34675 &   6.0404379 &  1.624462e-09\\\\\n",
       "\t RAINFALL              & -1982.940423 & 143.64226 & -13.8047146 &  9.922612e-43\\\\\n",
       "\t SNOWFALL              &   232.450790 & 104.60901 &   2.2220915 &  2.631243e-02\\\\\n",
       "\t `0`                   &   -12.499804 &  34.01006 &  -0.3675326 &  7.132341e-01\\\\\n",
       "\t `1`                   &  -125.701499 &  34.57857 &  -3.6352430 &  2.799291e-04\\\\\n",
       "\t `10`                  &  -222.233262 &  33.31558 &  -6.6705509 &  2.764896e-11\\\\\n",
       "\t `11`                  &  -231.428411 &  33.98053 &  -6.8106172 &  1.061643e-11\\\\\n",
       "\t `12`                  &  -194.605041 &  34.55857 &  -5.6311662 &  1.867030e-08\\\\\n",
       "\t `13`                  &  -189.528426 &  35.19884 &  -5.3845072 &  7.526455e-08\\\\\n",
       "\t `14`                  &  -183.060291 &  35.24584 &  -5.1938130 &  2.124823e-07\\\\\n",
       "\t `15`                  &  -103.126885 &  35.09640 &  -2.9383890 &  3.311170e-03\\\\\n",
       "\t `16`                  &    43.597895 &  34.23026 &   1.2736652 &  2.028290e-01\\\\\n",
       "\t `17`                  &   306.732435 &  34.27155 &   8.9500589 &  4.599800e-19\\\\\n",
       "\t `18`                  &   782.841507 &  34.51207 &  22.6831196 & 1.428163e-109\\\\\n",
       "\t `19`                  &   519.455508 &  34.54060 &  15.0389836 &  3.001427e-50\\\\\n",
       "\t `2`                   &  -259.946174 &  34.57530 &  -7.5182614 &  6.322812e-14\\\\\n",
       "\t `20`                  &   394.634676 &  34.72886 &  11.3633072 &  1.234052e-29\\\\\n",
       "\t `21`                  &   430.185215 &  34.33684 &  12.5283880 &  1.380106e-35\\\\\n",
       "\t `22`                  &   322.663949 &  33.93497 &   9.5083031 &  2.689464e-21\\\\\n",
       "\t `23`                  &    90.180803 &  33.97406 &   2.6544016 &  7.964847e-03\\\\\n",
       "\t `3`                   &  -327.244955 &  33.88966 &  -9.6561893 &  6.555260e-22\\\\\n",
       "\t `4`                   &  -389.558392 &  34.03286 & -11.4465363 &  4.834550e-30\\\\\n",
       "\t `5`                   &  -379.055209 &  33.81771 & -11.2087790 &  6.910457e-29\\\\\n",
       "\t `6`                   &  -216.689105 &  34.16556 &  -6.3423250 &  2.419940e-10\\\\\n",
       "\t `7`                   &   110.491959 &  33.93040 &   3.2564298 &  1.134185e-03\\\\\n",
       "\t `8`                   &   502.353808 &  33.50621 &  14.9928559 &  5.875496e-50\\\\\n",
       "\t AUTUMN                &   357.978265 &  19.99659 &  17.9019693 &  5.967468e-70\\\\\n",
       "\t SPRING                &   194.421437 &  19.21791 &  10.1166801 &  7.080230e-24\\\\\n",
       "\t SUMMER                &   172.901302 &  29.04270 &   5.9533473 &  2.768259e-09\\\\\n",
       "\t HOLIDAY               &  -129.167078 &  22.44739 &  -5.7542142 &  9.112956e-09\\\\\n",
       "\\end{tabular}\n"
      ],
      "text/markdown": [
       "\n",
       "A tibble: 36 × 5\n",
       "\n",
       "| term &lt;chr&gt; | estimate &lt;dbl&gt; | std.error &lt;dbl&gt; | statistic &lt;dbl&gt; | p.value &lt;dbl&gt; |\n",
       "|---|---|---|---|---|\n",
       "| (Intercept)           |   216.584059 |  50.67322 |   4.2741329 |  1.947061e-05 |\n",
       "| TEMPERATURE           |   810.603987 | 209.03372 |   3.8778623 |  1.064486e-04 |\n",
       "| HUMIDITY              |  -920.586909 |  97.24275 |  -9.4668947 |  3.978466e-21 |\n",
       "| WIND_SPEED            |    -9.313319 |  40.26779 |  -0.2312846 |  8.171012e-01 |\n",
       "| VISIBILITY            |    24.368049 |  20.23481 |   1.2042639 |  2.285328e-01 |\n",
       "| DEW_POINT_TEMPERATURE |   632.384298 | 217.47791 |   2.9078093 |  3.652385e-03 |\n",
       "| SOLAR_RADIATION       |   249.752454 |  41.34675 |   6.0404379 |  1.624462e-09 |\n",
       "| RAINFALL              | -1982.940423 | 143.64226 | -13.8047146 |  9.922612e-43 |\n",
       "| SNOWFALL              |   232.450790 | 104.60901 |   2.2220915 |  2.631243e-02 |\n",
       "| `0`                   |   -12.499804 |  34.01006 |  -0.3675326 |  7.132341e-01 |\n",
       "| `1`                   |  -125.701499 |  34.57857 |  -3.6352430 |  2.799291e-04 |\n",
       "| `10`                  |  -222.233262 |  33.31558 |  -6.6705509 |  2.764896e-11 |\n",
       "| `11`                  |  -231.428411 |  33.98053 |  -6.8106172 |  1.061643e-11 |\n",
       "| `12`                  |  -194.605041 |  34.55857 |  -5.6311662 |  1.867030e-08 |\n",
       "| `13`                  |  -189.528426 |  35.19884 |  -5.3845072 |  7.526455e-08 |\n",
       "| `14`                  |  -183.060291 |  35.24584 |  -5.1938130 |  2.124823e-07 |\n",
       "| `15`                  |  -103.126885 |  35.09640 |  -2.9383890 |  3.311170e-03 |\n",
       "| `16`                  |    43.597895 |  34.23026 |   1.2736652 |  2.028290e-01 |\n",
       "| `17`                  |   306.732435 |  34.27155 |   8.9500589 |  4.599800e-19 |\n",
       "| `18`                  |   782.841507 |  34.51207 |  22.6831196 | 1.428163e-109 |\n",
       "| `19`                  |   519.455508 |  34.54060 |  15.0389836 |  3.001427e-50 |\n",
       "| `2`                   |  -259.946174 |  34.57530 |  -7.5182614 |  6.322812e-14 |\n",
       "| `20`                  |   394.634676 |  34.72886 |  11.3633072 |  1.234052e-29 |\n",
       "| `21`                  |   430.185215 |  34.33684 |  12.5283880 |  1.380106e-35 |\n",
       "| `22`                  |   322.663949 |  33.93497 |   9.5083031 |  2.689464e-21 |\n",
       "| `23`                  |    90.180803 |  33.97406 |   2.6544016 |  7.964847e-03 |\n",
       "| `3`                   |  -327.244955 |  33.88966 |  -9.6561893 |  6.555260e-22 |\n",
       "| `4`                   |  -389.558392 |  34.03286 | -11.4465363 |  4.834550e-30 |\n",
       "| `5`                   |  -379.055209 |  33.81771 | -11.2087790 |  6.910457e-29 |\n",
       "| `6`                   |  -216.689105 |  34.16556 |  -6.3423250 |  2.419940e-10 |\n",
       "| `7`                   |   110.491959 |  33.93040 |   3.2564298 |  1.134185e-03 |\n",
       "| `8`                   |   502.353808 |  33.50621 |  14.9928559 |  5.875496e-50 |\n",
       "| AUTUMN                |   357.978265 |  19.99659 |  17.9019693 |  5.967468e-70 |\n",
       "| SPRING                |   194.421437 |  19.21791 |  10.1166801 |  7.080230e-24 |\n",
       "| SUMMER                |   172.901302 |  29.04270 |   5.9533473 |  2.768259e-09 |\n",
       "| HOLIDAY               |  -129.167078 |  22.44739 |  -5.7542142 |  9.112956e-09 |\n",
       "\n"
      ],
      "text/plain": [
       "   term                  estimate     std.error statistic   p.value      \n",
       "1  (Intercept)             216.584059  50.67322   4.2741329  1.947061e-05\n",
       "2  TEMPERATURE             810.603987 209.03372   3.8778623  1.064486e-04\n",
       "3  HUMIDITY               -920.586909  97.24275  -9.4668947  3.978466e-21\n",
       "4  WIND_SPEED               -9.313319  40.26779  -0.2312846  8.171012e-01\n",
       "5  VISIBILITY               24.368049  20.23481   1.2042639  2.285328e-01\n",
       "6  DEW_POINT_TEMPERATURE   632.384298 217.47791   2.9078093  3.652385e-03\n",
       "7  SOLAR_RADIATION         249.752454  41.34675   6.0404379  1.624462e-09\n",
       "8  RAINFALL              -1982.940423 143.64226 -13.8047146  9.922612e-43\n",
       "9  SNOWFALL                232.450790 104.60901   2.2220915  2.631243e-02\n",
       "10 `0`                     -12.499804  34.01006  -0.3675326  7.132341e-01\n",
       "11 `1`                    -125.701499  34.57857  -3.6352430  2.799291e-04\n",
       "12 `10`                   -222.233262  33.31558  -6.6705509  2.764896e-11\n",
       "13 `11`                   -231.428411  33.98053  -6.8106172  1.061643e-11\n",
       "14 `12`                   -194.605041  34.55857  -5.6311662  1.867030e-08\n",
       "15 `13`                   -189.528426  35.19884  -5.3845072  7.526455e-08\n",
       "16 `14`                   -183.060291  35.24584  -5.1938130  2.124823e-07\n",
       "17 `15`                   -103.126885  35.09640  -2.9383890  3.311170e-03\n",
       "18 `16`                     43.597895  34.23026   1.2736652  2.028290e-01\n",
       "19 `17`                    306.732435  34.27155   8.9500589  4.599800e-19\n",
       "20 `18`                    782.841507  34.51207  22.6831196 1.428163e-109\n",
       "21 `19`                    519.455508  34.54060  15.0389836  3.001427e-50\n",
       "22 `2`                    -259.946174  34.57530  -7.5182614  6.322812e-14\n",
       "23 `20`                    394.634676  34.72886  11.3633072  1.234052e-29\n",
       "24 `21`                    430.185215  34.33684  12.5283880  1.380106e-35\n",
       "25 `22`                    322.663949  33.93497   9.5083031  2.689464e-21\n",
       "26 `23`                     90.180803  33.97406   2.6544016  7.964847e-03\n",
       "27 `3`                    -327.244955  33.88966  -9.6561893  6.555260e-22\n",
       "28 `4`                    -389.558392  34.03286 -11.4465363  4.834550e-30\n",
       "29 `5`                    -379.055209  33.81771 -11.2087790  6.910457e-29\n",
       "30 `6`                    -216.689105  34.16556  -6.3423250  2.419940e-10\n",
       "31 `7`                     110.491959  33.93040   3.2564298  1.134185e-03\n",
       "32 `8`                     502.353808  33.50621  14.9928559  5.875496e-50\n",
       "33 AUTUMN                  357.978265  19.99659  17.9019693  5.967468e-70\n",
       "34 SPRING                  194.421437  19.21791  10.1166801  7.080230e-24\n",
       "35 SUMMER                  172.901302  29.04270   5.9533473  2.768259e-09\n",
       "36 HOLIDAY                -129.167078  22.44739  -5.7542142  9.112956e-09"
      ]
     },
     "metadata": {},
     "output_type": "display_data"
    }
   ],
   "source": [
    "# lm_model_all$fit$coefficients\n",
    "all_fit %>%\n",
    "  tidy() %>%\n",
    "  filter(!is.na(estimate))\n"
   ]
  },
  {
   "cell_type": "markdown",
   "metadata": {},
   "source": [
    "hmm, it's not very clear to compare the coefficients from a long and unsorted list. Next, you need to sort and visualize them using a bar chart\n"
   ]
  },
  {
   "cell_type": "markdown",
   "metadata": {},
   "source": [
    "_TODO:_ Sort the coefficient list in descending order and visualize the result using `ggplot` and `geom_bar` \n"
   ]
  },
  {
   "cell_type": "code",
   "execution_count": 24,
   "metadata": {
    "tags": []
   },
   "outputs": [
    {
     "data": {
      "text/html": [
       "<table>\n",
       "<caption>A tibble: 36 × 5</caption>\n",
       "<thead>\n",
       "\t<tr><th scope=col>term</th><th scope=col>estimate</th><th scope=col>std.error</th><th scope=col>statistic</th><th scope=col>p.value</th></tr>\n",
       "\t<tr><th scope=col>&lt;chr&gt;</th><th scope=col>&lt;dbl&gt;</th><th scope=col>&lt;dbl&gt;</th><th scope=col>&lt;dbl&gt;</th><th scope=col>&lt;dbl&gt;</th></tr>\n",
       "</thead>\n",
       "<tbody>\n",
       "\t<tr><td>RAINFALL             </td><td>-1982.940423</td><td>143.64226</td><td>-13.8047146</td><td> 9.922612e-43</td></tr>\n",
       "\t<tr><td>HUMIDITY             </td><td> -920.586909</td><td> 97.24275</td><td> -9.4668947</td><td> 3.978466e-21</td></tr>\n",
       "\t<tr><td>TEMPERATURE          </td><td>  810.603987</td><td>209.03372</td><td>  3.8778623</td><td> 1.064486e-04</td></tr>\n",
       "\t<tr><td>`18`                 </td><td>  782.841507</td><td> 34.51207</td><td> 22.6831196</td><td>1.428163e-109</td></tr>\n",
       "\t<tr><td>DEW_POINT_TEMPERATURE</td><td>  632.384298</td><td>217.47791</td><td>  2.9078093</td><td> 3.652385e-03</td></tr>\n",
       "\t<tr><td>`19`                 </td><td>  519.455508</td><td> 34.54060</td><td> 15.0389836</td><td> 3.001427e-50</td></tr>\n",
       "\t<tr><td>`8`                  </td><td>  502.353808</td><td> 33.50621</td><td> 14.9928559</td><td> 5.875496e-50</td></tr>\n",
       "\t<tr><td>`21`                 </td><td>  430.185215</td><td> 34.33684</td><td> 12.5283880</td><td> 1.380106e-35</td></tr>\n",
       "\t<tr><td>`20`                 </td><td>  394.634676</td><td> 34.72886</td><td> 11.3633072</td><td> 1.234052e-29</td></tr>\n",
       "\t<tr><td>`4`                  </td><td> -389.558392</td><td> 34.03286</td><td>-11.4465363</td><td> 4.834550e-30</td></tr>\n",
       "\t<tr><td>`5`                  </td><td> -379.055209</td><td> 33.81771</td><td>-11.2087790</td><td> 6.910457e-29</td></tr>\n",
       "\t<tr><td>AUTUMN               </td><td>  357.978265</td><td> 19.99659</td><td> 17.9019693</td><td> 5.967468e-70</td></tr>\n",
       "\t<tr><td>`3`                  </td><td> -327.244955</td><td> 33.88966</td><td> -9.6561893</td><td> 6.555260e-22</td></tr>\n",
       "\t<tr><td>`22`                 </td><td>  322.663949</td><td> 33.93497</td><td>  9.5083031</td><td> 2.689464e-21</td></tr>\n",
       "\t<tr><td>`17`                 </td><td>  306.732435</td><td> 34.27155</td><td>  8.9500589</td><td> 4.599800e-19</td></tr>\n",
       "\t<tr><td>`2`                  </td><td> -259.946174</td><td> 34.57530</td><td> -7.5182614</td><td> 6.322812e-14</td></tr>\n",
       "\t<tr><td>SOLAR_RADIATION      </td><td>  249.752454</td><td> 41.34675</td><td>  6.0404379</td><td> 1.624462e-09</td></tr>\n",
       "\t<tr><td>SNOWFALL             </td><td>  232.450790</td><td>104.60901</td><td>  2.2220915</td><td> 2.631243e-02</td></tr>\n",
       "\t<tr><td>`11`                 </td><td> -231.428411</td><td> 33.98053</td><td> -6.8106172</td><td> 1.061643e-11</td></tr>\n",
       "\t<tr><td>`10`                 </td><td> -222.233262</td><td> 33.31558</td><td> -6.6705509</td><td> 2.764896e-11</td></tr>\n",
       "\t<tr><td>`6`                  </td><td> -216.689105</td><td> 34.16556</td><td> -6.3423250</td><td> 2.419940e-10</td></tr>\n",
       "\t<tr><td>(Intercept)          </td><td>  216.584059</td><td> 50.67322</td><td>  4.2741329</td><td> 1.947061e-05</td></tr>\n",
       "\t<tr><td>`12`                 </td><td> -194.605041</td><td> 34.55857</td><td> -5.6311662</td><td> 1.867030e-08</td></tr>\n",
       "\t<tr><td>SPRING               </td><td>  194.421437</td><td> 19.21791</td><td> 10.1166801</td><td> 7.080230e-24</td></tr>\n",
       "\t<tr><td>`13`                 </td><td> -189.528426</td><td> 35.19884</td><td> -5.3845072</td><td> 7.526455e-08</td></tr>\n",
       "\t<tr><td>`14`                 </td><td> -183.060291</td><td> 35.24584</td><td> -5.1938130</td><td> 2.124823e-07</td></tr>\n",
       "\t<tr><td>SUMMER               </td><td>  172.901302</td><td> 29.04270</td><td>  5.9533473</td><td> 2.768259e-09</td></tr>\n",
       "\t<tr><td>HOLIDAY              </td><td> -129.167078</td><td> 22.44739</td><td> -5.7542142</td><td> 9.112956e-09</td></tr>\n",
       "\t<tr><td>`1`                  </td><td> -125.701499</td><td> 34.57857</td><td> -3.6352430</td><td> 2.799291e-04</td></tr>\n",
       "\t<tr><td>`7`                  </td><td>  110.491959</td><td> 33.93040</td><td>  3.2564298</td><td> 1.134185e-03</td></tr>\n",
       "\t<tr><td>`15`                 </td><td> -103.126885</td><td> 35.09640</td><td> -2.9383890</td><td> 3.311170e-03</td></tr>\n",
       "\t<tr><td>`23`                 </td><td>   90.180803</td><td> 33.97406</td><td>  2.6544016</td><td> 7.964847e-03</td></tr>\n",
       "\t<tr><td>`16`                 </td><td>   43.597895</td><td> 34.23026</td><td>  1.2736652</td><td> 2.028290e-01</td></tr>\n",
       "\t<tr><td>VISIBILITY           </td><td>   24.368049</td><td> 20.23481</td><td>  1.2042639</td><td> 2.285328e-01</td></tr>\n",
       "\t<tr><td>`0`                  </td><td>  -12.499804</td><td> 34.01006</td><td> -0.3675326</td><td> 7.132341e-01</td></tr>\n",
       "\t<tr><td>WIND_SPEED           </td><td>   -9.313319</td><td> 40.26779</td><td> -0.2312846</td><td> 8.171012e-01</td></tr>\n",
       "</tbody>\n",
       "</table>\n"
      ],
      "text/latex": [
       "A tibble: 36 × 5\n",
       "\\begin{tabular}{lllll}\n",
       " term & estimate & std.error & statistic & p.value\\\\\n",
       " <chr> & <dbl> & <dbl> & <dbl> & <dbl>\\\\\n",
       "\\hline\n",
       "\t RAINFALL              & -1982.940423 & 143.64226 & -13.8047146 &  9.922612e-43\\\\\n",
       "\t HUMIDITY              &  -920.586909 &  97.24275 &  -9.4668947 &  3.978466e-21\\\\\n",
       "\t TEMPERATURE           &   810.603987 & 209.03372 &   3.8778623 &  1.064486e-04\\\\\n",
       "\t `18`                  &   782.841507 &  34.51207 &  22.6831196 & 1.428163e-109\\\\\n",
       "\t DEW\\_POINT\\_TEMPERATURE &   632.384298 & 217.47791 &   2.9078093 &  3.652385e-03\\\\\n",
       "\t `19`                  &   519.455508 &  34.54060 &  15.0389836 &  3.001427e-50\\\\\n",
       "\t `8`                   &   502.353808 &  33.50621 &  14.9928559 &  5.875496e-50\\\\\n",
       "\t `21`                  &   430.185215 &  34.33684 &  12.5283880 &  1.380106e-35\\\\\n",
       "\t `20`                  &   394.634676 &  34.72886 &  11.3633072 &  1.234052e-29\\\\\n",
       "\t `4`                   &  -389.558392 &  34.03286 & -11.4465363 &  4.834550e-30\\\\\n",
       "\t `5`                   &  -379.055209 &  33.81771 & -11.2087790 &  6.910457e-29\\\\\n",
       "\t AUTUMN                &   357.978265 &  19.99659 &  17.9019693 &  5.967468e-70\\\\\n",
       "\t `3`                   &  -327.244955 &  33.88966 &  -9.6561893 &  6.555260e-22\\\\\n",
       "\t `22`                  &   322.663949 &  33.93497 &   9.5083031 &  2.689464e-21\\\\\n",
       "\t `17`                  &   306.732435 &  34.27155 &   8.9500589 &  4.599800e-19\\\\\n",
       "\t `2`                   &  -259.946174 &  34.57530 &  -7.5182614 &  6.322812e-14\\\\\n",
       "\t SOLAR\\_RADIATION       &   249.752454 &  41.34675 &   6.0404379 &  1.624462e-09\\\\\n",
       "\t SNOWFALL              &   232.450790 & 104.60901 &   2.2220915 &  2.631243e-02\\\\\n",
       "\t `11`                  &  -231.428411 &  33.98053 &  -6.8106172 &  1.061643e-11\\\\\n",
       "\t `10`                  &  -222.233262 &  33.31558 &  -6.6705509 &  2.764896e-11\\\\\n",
       "\t `6`                   &  -216.689105 &  34.16556 &  -6.3423250 &  2.419940e-10\\\\\n",
       "\t (Intercept)           &   216.584059 &  50.67322 &   4.2741329 &  1.947061e-05\\\\\n",
       "\t `12`                  &  -194.605041 &  34.55857 &  -5.6311662 &  1.867030e-08\\\\\n",
       "\t SPRING                &   194.421437 &  19.21791 &  10.1166801 &  7.080230e-24\\\\\n",
       "\t `13`                  &  -189.528426 &  35.19884 &  -5.3845072 &  7.526455e-08\\\\\n",
       "\t `14`                  &  -183.060291 &  35.24584 &  -5.1938130 &  2.124823e-07\\\\\n",
       "\t SUMMER                &   172.901302 &  29.04270 &   5.9533473 &  2.768259e-09\\\\\n",
       "\t HOLIDAY               &  -129.167078 &  22.44739 &  -5.7542142 &  9.112956e-09\\\\\n",
       "\t `1`                   &  -125.701499 &  34.57857 &  -3.6352430 &  2.799291e-04\\\\\n",
       "\t `7`                   &   110.491959 &  33.93040 &   3.2564298 &  1.134185e-03\\\\\n",
       "\t `15`                  &  -103.126885 &  35.09640 &  -2.9383890 &  3.311170e-03\\\\\n",
       "\t `23`                  &    90.180803 &  33.97406 &   2.6544016 &  7.964847e-03\\\\\n",
       "\t `16`                  &    43.597895 &  34.23026 &   1.2736652 &  2.028290e-01\\\\\n",
       "\t VISIBILITY            &    24.368049 &  20.23481 &   1.2042639 &  2.285328e-01\\\\\n",
       "\t `0`                   &   -12.499804 &  34.01006 &  -0.3675326 &  7.132341e-01\\\\\n",
       "\t WIND\\_SPEED            &    -9.313319 &  40.26779 &  -0.2312846 &  8.171012e-01\\\\\n",
       "\\end{tabular}\n"
      ],
      "text/markdown": [
       "\n",
       "A tibble: 36 × 5\n",
       "\n",
       "| term &lt;chr&gt; | estimate &lt;dbl&gt; | std.error &lt;dbl&gt; | statistic &lt;dbl&gt; | p.value &lt;dbl&gt; |\n",
       "|---|---|---|---|---|\n",
       "| RAINFALL              | -1982.940423 | 143.64226 | -13.8047146 |  9.922612e-43 |\n",
       "| HUMIDITY              |  -920.586909 |  97.24275 |  -9.4668947 |  3.978466e-21 |\n",
       "| TEMPERATURE           |   810.603987 | 209.03372 |   3.8778623 |  1.064486e-04 |\n",
       "| `18`                  |   782.841507 |  34.51207 |  22.6831196 | 1.428163e-109 |\n",
       "| DEW_POINT_TEMPERATURE |   632.384298 | 217.47791 |   2.9078093 |  3.652385e-03 |\n",
       "| `19`                  |   519.455508 |  34.54060 |  15.0389836 |  3.001427e-50 |\n",
       "| `8`                   |   502.353808 |  33.50621 |  14.9928559 |  5.875496e-50 |\n",
       "| `21`                  |   430.185215 |  34.33684 |  12.5283880 |  1.380106e-35 |\n",
       "| `20`                  |   394.634676 |  34.72886 |  11.3633072 |  1.234052e-29 |\n",
       "| `4`                   |  -389.558392 |  34.03286 | -11.4465363 |  4.834550e-30 |\n",
       "| `5`                   |  -379.055209 |  33.81771 | -11.2087790 |  6.910457e-29 |\n",
       "| AUTUMN                |   357.978265 |  19.99659 |  17.9019693 |  5.967468e-70 |\n",
       "| `3`                   |  -327.244955 |  33.88966 |  -9.6561893 |  6.555260e-22 |\n",
       "| `22`                  |   322.663949 |  33.93497 |   9.5083031 |  2.689464e-21 |\n",
       "| `17`                  |   306.732435 |  34.27155 |   8.9500589 |  4.599800e-19 |\n",
       "| `2`                   |  -259.946174 |  34.57530 |  -7.5182614 |  6.322812e-14 |\n",
       "| SOLAR_RADIATION       |   249.752454 |  41.34675 |   6.0404379 |  1.624462e-09 |\n",
       "| SNOWFALL              |   232.450790 | 104.60901 |   2.2220915 |  2.631243e-02 |\n",
       "| `11`                  |  -231.428411 |  33.98053 |  -6.8106172 |  1.061643e-11 |\n",
       "| `10`                  |  -222.233262 |  33.31558 |  -6.6705509 |  2.764896e-11 |\n",
       "| `6`                   |  -216.689105 |  34.16556 |  -6.3423250 |  2.419940e-10 |\n",
       "| (Intercept)           |   216.584059 |  50.67322 |   4.2741329 |  1.947061e-05 |\n",
       "| `12`                  |  -194.605041 |  34.55857 |  -5.6311662 |  1.867030e-08 |\n",
       "| SPRING                |   194.421437 |  19.21791 |  10.1166801 |  7.080230e-24 |\n",
       "| `13`                  |  -189.528426 |  35.19884 |  -5.3845072 |  7.526455e-08 |\n",
       "| `14`                  |  -183.060291 |  35.24584 |  -5.1938130 |  2.124823e-07 |\n",
       "| SUMMER                |   172.901302 |  29.04270 |   5.9533473 |  2.768259e-09 |\n",
       "| HOLIDAY               |  -129.167078 |  22.44739 |  -5.7542142 |  9.112956e-09 |\n",
       "| `1`                   |  -125.701499 |  34.57857 |  -3.6352430 |  2.799291e-04 |\n",
       "| `7`                   |   110.491959 |  33.93040 |   3.2564298 |  1.134185e-03 |\n",
       "| `15`                  |  -103.126885 |  35.09640 |  -2.9383890 |  3.311170e-03 |\n",
       "| `23`                  |    90.180803 |  33.97406 |   2.6544016 |  7.964847e-03 |\n",
       "| `16`                  |    43.597895 |  34.23026 |   1.2736652 |  2.028290e-01 |\n",
       "| VISIBILITY            |    24.368049 |  20.23481 |   1.2042639 |  2.285328e-01 |\n",
       "| `0`                   |   -12.499804 |  34.01006 |  -0.3675326 |  7.132341e-01 |\n",
       "| WIND_SPEED            |    -9.313319 |  40.26779 |  -0.2312846 |  8.171012e-01 |\n",
       "\n"
      ],
      "text/plain": [
       "   term                  estimate     std.error statistic   p.value      \n",
       "1  RAINFALL              -1982.940423 143.64226 -13.8047146  9.922612e-43\n",
       "2  HUMIDITY               -920.586909  97.24275  -9.4668947  3.978466e-21\n",
       "3  TEMPERATURE             810.603987 209.03372   3.8778623  1.064486e-04\n",
       "4  `18`                    782.841507  34.51207  22.6831196 1.428163e-109\n",
       "5  DEW_POINT_TEMPERATURE   632.384298 217.47791   2.9078093  3.652385e-03\n",
       "6  `19`                    519.455508  34.54060  15.0389836  3.001427e-50\n",
       "7  `8`                     502.353808  33.50621  14.9928559  5.875496e-50\n",
       "8  `21`                    430.185215  34.33684  12.5283880  1.380106e-35\n",
       "9  `20`                    394.634676  34.72886  11.3633072  1.234052e-29\n",
       "10 `4`                    -389.558392  34.03286 -11.4465363  4.834550e-30\n",
       "11 `5`                    -379.055209  33.81771 -11.2087790  6.910457e-29\n",
       "12 AUTUMN                  357.978265  19.99659  17.9019693  5.967468e-70\n",
       "13 `3`                    -327.244955  33.88966  -9.6561893  6.555260e-22\n",
       "14 `22`                    322.663949  33.93497   9.5083031  2.689464e-21\n",
       "15 `17`                    306.732435  34.27155   8.9500589  4.599800e-19\n",
       "16 `2`                    -259.946174  34.57530  -7.5182614  6.322812e-14\n",
       "17 SOLAR_RADIATION         249.752454  41.34675   6.0404379  1.624462e-09\n",
       "18 SNOWFALL                232.450790 104.60901   2.2220915  2.631243e-02\n",
       "19 `11`                   -231.428411  33.98053  -6.8106172  1.061643e-11\n",
       "20 `10`                   -222.233262  33.31558  -6.6705509  2.764896e-11\n",
       "21 `6`                    -216.689105  34.16556  -6.3423250  2.419940e-10\n",
       "22 (Intercept)             216.584059  50.67322   4.2741329  1.947061e-05\n",
       "23 `12`                   -194.605041  34.55857  -5.6311662  1.867030e-08\n",
       "24 SPRING                  194.421437  19.21791  10.1166801  7.080230e-24\n",
       "25 `13`                   -189.528426  35.19884  -5.3845072  7.526455e-08\n",
       "26 `14`                   -183.060291  35.24584  -5.1938130  2.124823e-07\n",
       "27 SUMMER                  172.901302  29.04270   5.9533473  2.768259e-09\n",
       "28 HOLIDAY                -129.167078  22.44739  -5.7542142  9.112956e-09\n",
       "29 `1`                    -125.701499  34.57857  -3.6352430  2.799291e-04\n",
       "30 `7`                     110.491959  33.93040   3.2564298  1.134185e-03\n",
       "31 `15`                   -103.126885  35.09640  -2.9383890  3.311170e-03\n",
       "32 `23`                     90.180803  33.97406   2.6544016  7.964847e-03\n",
       "33 `16`                     43.597895  34.23026   1.2736652  2.028290e-01\n",
       "34 VISIBILITY               24.368049  20.23481   1.2042639  2.285328e-01\n",
       "35 `0`                     -12.499804  34.01006  -0.3675326  7.132341e-01\n",
       "36 WIND_SPEED               -9.313319  40.26779  -0.2312846  8.171012e-01"
      ]
     },
     "metadata": {},
     "output_type": "display_data"
    }
   ],
   "source": [
    "# Sort coefficient list\n",
    "sorted_coefficients <-all_fit %>%\n",
    "  tidy() %>%\n",
    "  arrange(desc(abs(estimate)))\n",
    "sorted_coefficients "
   ]
  },
  {
   "cell_type": "code",
   "execution_count": 27,
   "metadata": {
    "tags": []
   },
   "outputs": [
    {
     "data": {},
     "metadata": {},
     "output_type": "display_data"
    },
    {
     "data": {
      "image/png": "[encoded data removed]",
      "text/plain": [
       "plot without title"
      ]
     },
     "metadata": {},
     "output_type": "display_data",
     "source": "R display func"
    }
   ],
   "source": [
    "# Visualize the list using ggplot and geom_bar\n",
    "ggplot(sorted_coefficients, aes(x = fct_reorder(term, abs(estimate)), y = abs(estimate))) +\n",
    "  geom_bar(stat=\"identity\") +\n",
    "  coord_flip() +  \n",
    "  theme(axis.text.y = element_text(angle = 10, size = 7)) +\n",
    "  xlab(\"variable\")"
   ]
  },
  {
   "cell_type": "markdown",
   "metadata": {},
   "source": [
    "You should see a sorted coefficient bar chart like the following example: \n"
   ]
  },
  {
   "cell_type": "markdown",
   "metadata": {},
   "source": [
    "<a href=\"https://cognitiveclass.ai/\">\n",
    "    <img src=\"https://cf-courses-data.s3.us.cloud-object-storage.appdomain.cloud/IBMDeveloperSkillsNetwork-RP0321EN-SkillsNetwork/labs/module_4/images/coefficient_chart.png\" width=\"600\" align=\"center\">\n",
    "</a>\n"
   ]
  },
  {
   "cell_type": "markdown",
   "metadata": {},
   "source": [
    "Mark down these 'top-ranked variables by coefficient', which will be used for model refinments in the next labs.\n"
   ]
  },
  {
   "cell_type": "markdown",
   "metadata": {},
   "source": [
    "Note that here the main reason we use absolute value is to easily identify important variables, i.e. variables with large magnitudes, no matter it's negative or positive. If we want to interprete the model then it's better to seperate the positive and negative coefficients.\n"
   ]
  },
  {
   "cell_type": "markdown",
   "metadata": {},
   "source": [
    "# Next Steps\n"
   ]
  },
  {
   "cell_type": "markdown",
   "metadata": {},
   "source": [
    "Great! Now you have built a baseline linear regression model to predict hourly bike rent count, with reasonably good performance. In the next lab, you will be refining the baseline model to improve its performance.\n"
   ]
  },
  {
   "cell_type": "markdown",
   "metadata": {},
   "source": [
    "## Authors\n",
    "\n",
    "<a href=\"https://www.linkedin.com/in/yan-luo-96288783/\" target=\"_blank\">Yan Luo</a>\n"
   ]
  },
  {
   "cell_type": "markdown",
   "metadata": {},
   "source": [
    "### Other Contributors\n",
    "\n",
    "Jeff Grossman\n"
   ]
  },
  {
   "cell_type": "markdown",
   "metadata": {},
   "source": [
    "## Change Log\n",
    "\n",
    "| Date (YYYY-MM-DD) | Version | Changed By | Change Description           |\n",
    "| ----------------- | ------- | ---------- | ---------------------------- |\n",
    "| 2021-04-08        | 1.0     | Yan        | Initial version created      |\n",
    "|                   |         |            |                              |\n",
    "|                   |         |            |                              |\n",
    "\n",
    "## <h3 align=\"center\"> © IBM Corporation 2021. All rights reserved. <h3/>\n"
   ]
  }
 ],
 "metadata": {
  "kernelspec": {
   "display_name": "R",
   "language": "R",
   "name": "conda-env-r-r"
  },
  "language_info": {
   "codemirror_mode": "r",
   "file_extension": ".r",
   "mimetype": "text/x-r-source",
   "name": "R",
   "pygments_lexer": "r",
   "version": "3.5.1"
  }
 },
 "nbformat": 4,
 "nbformat_minor": 4
}
