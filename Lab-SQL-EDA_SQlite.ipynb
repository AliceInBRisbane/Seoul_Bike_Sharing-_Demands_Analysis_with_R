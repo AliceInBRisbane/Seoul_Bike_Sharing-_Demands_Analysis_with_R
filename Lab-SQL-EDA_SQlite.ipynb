{
 "cells": [
  {
   "cell_type": "markdown",
   "metadata": {},
   "source": [
    "<center>\n",
    "<img src=\"https://cf-courses-data.s3.us.cloud-object-storage.appdomain.cloud/IBMDeveloperSkillsNetwork-RP0321EN-SkillsNetwork/labs/module_1/images/SN_web_lightmode.png\" width=\"300\"> \n",
    "</center>\n",
    "\n",
    "# Assignment: Exploratory Data Analysis with SQL\n",
    "Estimated time needed: 60 minutes\n",
    "\n",
    "\n",
    "# Introduction\n",
    "Using this R notebook you will perform exploratory data analysis using SQL queries with the RSQLite R package. You will be graded on the accuracy of your results as well as the content of your SQL queries.\n"
   ]
  },
  {
   "cell_type": "markdown",
   "metadata": {},
   "source": [
    "### Establish your SQL Lite connection\n",
    "\n",
    "#### Install RSQLite package\n",
    "The RSQlite  package needs to be installed in your notebook. Let’s load the RSQLite package by clicking on the following cell and executing it (Shift+Enter):\n"
   ]
  },
  {
   "cell_type": "code",
   "execution_count": 3,
   "metadata": {
    "tags": []
   },
   "outputs": [],
   "source": [
    "install.packages(\"https://cran.r-project.org/src/contrib/Archive/RSQLite/RSQLite_0.10.0.tar.gz\", repos = NULL, type = \"source\", dependencies = TRUE) "
   ]
  },
  {
   "cell_type": "markdown",
   "metadata": {},
   "source": [
    "#### Restart Kernel\n",
    "\n",
    "After installing the RSQLite package, it is necessary to restart R Kernel. Click **Kernel** > **Restart Kernel** from the main menu. This will register the newly installed packages. Now proceed to load the RSQLite package. \n",
    "Now proceed to load the RSQLite package. Load RSQLite Load the 'RSQLite' library, and use the 'dbConnect( )' function as you did in the previous labs to establish the connection to your SQLite database. You are now ready to start running SQL queries using the RSQLite library as you did in Course 3.\n"
   ]
  },
  {
   "cell_type": "code",
   "execution_count": 4,
   "metadata": {
    "tags": []
   },
   "outputs": [
    {
     "name": "stderr",
     "output_type": "stream",
     "text": [
      "Loading required package: DBI\n"
     ]
    }
   ],
   "source": [
    "library(\"RSQLite\")"
   ]
  },
  {
   "cell_type": "code",
   "execution_count": 5,
   "metadata": {
    "tags": []
   },
   "outputs": [],
   "source": [
    "# provide your solution here to connect db\n",
    "\n",
    "library(RSQLite)\n",
    "\n",
    "\n",
    "conn <- dbConnect(SQLite(), dbname = \"my_database.sqlite\")\n",
    "\n"
   ]
  },
  {
   "cell_type": "markdown",
   "metadata": {},
   "source": [
    "Download the following csv files:\n",
    "\n",
    "*   [WORLD_CITIES](https://cf-courses-data.s3.us.cloud-object-storage.appdomain.cloud/IBMDeveloperSkillsNetwork-RP0321EN-SkillsNetwork/labs/datasets/world_cities.csv)\n",
    "\n",
    "*   [BIKE_SHARING_SYSTEMS](https://cf-courses-data.s3.us.cloud-object-storage.appdomain.cloud/IBMDeveloperSkillsNetwork-RP0321EN-SkillsNetwork/labs/datasets/bike_sharing_systems.csv)\n",
    "\n",
    "*   [CITIES_WEATHER_FORECAST](https://cf-courses-data.s3.us.cloud-object-storage.appdomain.cloud/IBMDeveloperSkillsNetwork-RP0321EN-SkillsNetwork/labs/datasets/cities_weather_forecast.csv)\n",
    "\n",
    "*   [SEOUL_BIKE_SHARING](https://cf-courses-data.s3.us.cloud-object-storage.appdomain.cloud/IBMDeveloperSkillsNetwork-RP0321EN-SkillsNetwork/labs/datasets/seoul_bike_sharing.csv)\n",
    "\n",
    "and load the csv's  into 4 tables as mentioned below\n",
    "* SEOUL_BIKE_SHARING\n",
    "\n",
    "* CITIES_WEATHER_FORECAST\n",
    "\n",
    "* BIKE_SHARING_SYSTEMS \n",
    "\n",
    "*  WORLD_CITIES\n",
    "\n",
    "> Hint : Use the read_csv() function and dbWriteTable() functions\n"
   ]
  },
  {
   "cell_type": "markdown",
   "metadata": {},
   "source": [
    "\n",
    "## Task 1 - Record Count\n",
    "#### Determine how many records are in the seoul_bike_sharing dataset.\n"
   ]
  },
  {
   "cell_type": "markdown",
   "metadata": {},
   "source": [
    "### Solution 1\n"
   ]
  },
  {
   "cell_type": "code",
   "execution_count": 6,
   "metadata": {
    "tags": []
   },
   "outputs": [
    {
     "name": "stderr",
     "output_type": "stream",
     "text": [
      "Parsed with column specification:\n",
      "cols(\n",
      "  CITY = col_character(),\n",
      "  CITY_ASCII = col_character(),\n",
      "  LAT = col_double(),\n",
      "  LNG = col_double(),\n",
      "  COUNTRY = col_character(),\n",
      "  ISO2 = col_character(),\n",
      "  ISO3 = col_character(),\n",
      "  ADMIN_NAME = col_character(),\n",
      "  CAPITAL = col_character(),\n",
      "  POPULATION = col_double(),\n",
      "  ID = col_double()\n",
      ")\n",
      "Warning message in sqliteWriteTable(conn, name, value, ...):\n",
      "“table WORLD_CITIES exists in database: aborting dbWriteTable”Parsed with column specification:\n",
      "cols(\n",
      "  COUNTRY = col_character(),\n",
      "  CITY = col_character(),\n",
      "  SYSTEM = col_character(),\n",
      "  BICYCLES = col_double()\n",
      ")\n",
      "Warning message in sqliteWriteTable(conn, name, value, ...):\n",
      "“table BIKE_SHARING_SYSTEMS exists in database: aborting dbWriteTable”Parsed with column specification:\n",
      "cols(\n",
      "  CITY = col_character(),\n",
      "  WEATHER = col_character(),\n",
      "  VISIBILITY = col_double(),\n",
      "  TEMP = col_double(),\n",
      "  TEMP_MIN = col_double(),\n",
      "  TEMP_MAX = col_double(),\n",
      "  PRESSURE = col_double(),\n",
      "  HUMIDITY = col_double(),\n",
      "  WIND_SPEED = col_double(),\n",
      "  WIND_DEG = col_double(),\n",
      "  SEASON = col_character(),\n",
      "  FORECAST_DATETIME = col_datetime(format = \"\")\n",
      ")\n",
      "Warning message in sqliteWriteTable(conn, name, value, ...):\n",
      "“table CITIES_WEATHER_FORECAST exists in database: aborting dbWriteTable”Parsed with column specification:\n",
      "cols(\n",
      "  DATE = col_character(),\n",
      "  RENTED_BIKE_COUNT = col_double(),\n",
      "  HOUR = col_double(),\n",
      "  TEMPERATURE = col_double(),\n",
      "  HUMIDITY = col_double(),\n",
      "  WIND_SPEED = col_double(),\n",
      "  VISIBILITY = col_double(),\n",
      "  DEW_POINT_TEMPERATURE = col_double(),\n",
      "  SOLAR_RADIATION = col_double(),\n",
      "  RAINFALL = col_double(),\n",
      "  SNOWFALL = col_double(),\n",
      "  SEASONS = col_character(),\n",
      "  HOLIDAY = col_character(),\n",
      "  FUNCTIONING_DAY = col_character()\n",
      ")\n",
      "Warning message in sqliteWriteTable(conn, name, value, ...):\n",
      "“table SEOUL_BIKE_SHARING exists in database: aborting dbWriteTable”"
     ]
    },
    {
     "name": "stdout",
     "output_type": "stream",
     "text": [
      "WORLD_CITIES has 26569 rows.\n",
      "BIKE_SHARING_SYSTEMS has 480 rows.\n",
      "CITIES_WEATHER_FORECAST has 160 rows.\n",
      "SEOUL_BIKE_SHARING has 8465 rows.\n"
     ]
    },
    {
     "data": {
      "text/html": [
       "<style>\n",
       ".list-inline {list-style: none; margin:0; padding: 0}\n",
       ".list-inline>li {display: inline-block}\n",
       ".list-inline>li:not(:last-child)::after {content: \"\\00b7\"; padding: 0 .5ex}\n",
       "</style>\n",
       "<ol class=list-inline><li>'BIKE_SHARING_SYSTEMS'</li><li>'CITIES_WEATHER_FORECAST'</li><li>'SEOUL_BIKE_SHARING'</li><li>'WORLD_CITIES'</li></ol>\n"
      ],
      "text/latex": [
       "\\begin{enumerate*}\n",
       "\\item 'BIKE\\_SHARING\\_SYSTEMS'\n",
       "\\item 'CITIES\\_WEATHER\\_FORECAST'\n",
       "\\item 'SEOUL\\_BIKE\\_SHARING'\n",
       "\\item 'WORLD\\_CITIES'\n",
       "\\end{enumerate*}\n"
      ],
      "text/markdown": [
       "1. 'BIKE_SHARING_SYSTEMS'\n",
       "2. 'CITIES_WEATHER_FORECAST'\n",
       "3. 'SEOUL_BIKE_SHARING'\n",
       "4. 'WORLD_CITIES'\n",
       "\n",
       "\n"
      ],
      "text/plain": [
       "[1] \"BIKE_SHARING_SYSTEMS\"    \"CITIES_WEATHER_FORECAST\"\n",
       "[3] \"SEOUL_BIKE_SHARING\"      \"WORLD_CITIES\"           "
      ]
     },
     "metadata": {},
     "output_type": "display_data"
    },
    {
     "data": {
      "text/html": [
       "<table>\n",
       "<caption>A data.frame: 1 × 1</caption>\n",
       "<thead>\n",
       "\t<tr><th></th><th scope=col>Count_of_Records</th></tr>\n",
       "\t<tr><th></th><th scope=col>&lt;int&gt;</th></tr>\n",
       "</thead>\n",
       "<tbody>\n",
       "\t<tr><th scope=row>1</th><td>8465</td></tr>\n",
       "</tbody>\n",
       "</table>\n"
      ],
      "text/latex": [
       "A data.frame: 1 × 1\n",
       "\\begin{tabular}{r|l}\n",
       "  & Count\\_of\\_Records\\\\\n",
       "  & <int>\\\\\n",
       "\\hline\n",
       "\t1 & 8465\\\\\n",
       "\\end{tabular}\n"
      ],
      "text/markdown": [
       "\n",
       "A data.frame: 1 × 1\n",
       "\n",
       "| <!--/--> | Count_of_Records &lt;int&gt; |\n",
       "|---|---|\n",
       "| 1 | 8465 |\n",
       "\n"
      ],
      "text/plain": [
       "  Count_of_Records\n",
       "1 8465            "
      ]
     },
     "metadata": {},
     "output_type": "display_data"
    }
   ],
   "source": [
    "# provide your solution here\n",
    "library(readr)\n",
    "file_urls <- c(\n",
    "  \"WORLD_CITIES\" = \"https://cf-courses-data.s3.us.cloud-object-storage.appdomain.cloud/IBMDeveloperSkillsNetwork-RP0321EN-SkillsNetwork/labs/datasets/world_cities.csv\",\n",
    "  \"BIKE_SHARING_SYSTEMS\" = \"https://cf-courses-data.s3.us.cloud-object-storage.appdomain.cloud/IBMDeveloperSkillsNetwork-RP0321EN-SkillsNetwork/labs/datasets/bike_sharing_systems.csv\",\n",
    "  \"CITIES_WEATHER_FORECAST\" = \"https://cf-courses-data.s3.us.cloud-object-storage.appdomain.cloud/IBMDeveloperSkillsNetwork-RP0321EN-SkillsNetwork/labs/datasets/cities_weather_forecast.csv\",\n",
    "  \"SEOUL_BIKE_SHARING\" = \"https://cf-courses-data.s3.us.cloud-object-storage.appdomain.cloud/IBMDeveloperSkillsNetwork-RP0321EN-SkillsNetwork/labs/datasets/seoul_bike_sharing.csv\"\n",
    ")\n",
    "\n",
    "# download the files\n",
    "for (name in names(file_urls)) {\n",
    "  download.file(file_urls[name], destfile = paste0(name, \".csv\"), method = \"libcurl\")\n",
    "}\n",
    "\n",
    "# conn <- dbConnect(SQLite(), dbname = \"my_database.sqlite\")\n",
    "\n",
    "for (name in names(file_urls)) {\n",
    "  # read csv\n",
    "  data <- read_csv(paste0(name, \".csv\"))\n",
    "  \n",
    "  # write to SQLite\n",
    "  dbWriteTable(conn, name, data, row.names = FALSE)\n",
    "}\n",
    "\n",
    "# test if succeed\n",
    "for (name in names(file_urls)) {\n",
    "  query <- paste(\"SELECT COUNT(*) FROM\", name)\n",
    "  count <- dbGetQuery(conn, query)\n",
    "  cat(name, \"has\", count[1, 1], \"rows.\\n\")\n",
    "}\n",
    "\n",
    "\n",
    "dbListTables(conn)\n",
    "dbGetQuery(conn, \"SELECT count(*) as Count_of_Records FROM seoul_bike_sharing\")"
   ]
  },
  {
   "cell_type": "markdown",
   "metadata": {},
   "source": [
    "## Task 2 - Operational Hours\n",
    "#### Determine how many hours had non-zero rented bike count.\n"
   ]
  },
  {
   "cell_type": "markdown",
   "metadata": {},
   "source": [
    "### Solution 2\n"
   ]
  },
  {
   "cell_type": "code",
   "execution_count": 8,
   "metadata": {
    "tags": []
   },
   "outputs": [
    {
     "data": {
      "text/html": [
       "<table>\n",
       "<caption>A data.frame: 1 × 1</caption>\n",
       "<thead>\n",
       "\t<tr><th></th><th scope=col>Numer_of_hours</th></tr>\n",
       "\t<tr><th></th><th scope=col>&lt;int&gt;</th></tr>\n",
       "</thead>\n",
       "<tbody>\n",
       "\t<tr><th scope=row>1</th><td>8465</td></tr>\n",
       "</tbody>\n",
       "</table>\n"
      ],
      "text/latex": [
       "A data.frame: 1 × 1\n",
       "\\begin{tabular}{r|l}\n",
       "  & Numer\\_of\\_hours\\\\\n",
       "  & <int>\\\\\n",
       "\\hline\n",
       "\t1 & 8465\\\\\n",
       "\\end{tabular}\n"
      ],
      "text/markdown": [
       "\n",
       "A data.frame: 1 × 1\n",
       "\n",
       "| <!--/--> | Numer_of_hours &lt;int&gt; |\n",
       "|---|---|\n",
       "| 1 | 8465 |\n",
       "\n"
      ],
      "text/plain": [
       "  Numer_of_hours\n",
       "1 8465          "
      ]
     },
     "metadata": {},
     "output_type": "display_data"
    }
   ],
   "source": [
    "# provide your solution here\n",
    "\n",
    "dbGetQuery(conn, \"SELECT count(HOUR) as Numer_of_hours FROM seoul_bike_sharing\n",
    "WHERE RENTED_BIKE_COUNT > 0\")"
   ]
  },
  {
   "cell_type": "markdown",
   "metadata": {},
   "source": [
    "## Task 3 - Weather Outlook\n",
    "#### Query the the weather forecast for Seoul over the next 3 hours.\n",
    "Recall that the records in the CITIES_WEATHER_FORECAST dataset are 3 hours apart, so we just need the first record from the query.\n"
   ]
  },
  {
   "cell_type": "markdown",
   "metadata": {},
   "source": [
    "### Solution 3\n"
   ]
  },
  {
   "cell_type": "code",
   "execution_count": 9,
   "metadata": {
    "tags": []
   },
   "outputs": [
    {
     "data": {
      "text/html": [
       "<table>\n",
       "<caption>A data.frame: 1 × 12</caption>\n",
       "<thead>\n",
       "\t<tr><th></th><th scope=col>CITY</th><th scope=col>WEATHER</th><th scope=col>VISIBILITY</th><th scope=col>TEMP</th><th scope=col>TEMP_MIN</th><th scope=col>TEMP_MAX</th><th scope=col>PRESSURE</th><th scope=col>HUMIDITY</th><th scope=col>WIND_SPEED</th><th scope=col>WIND_DEG</th><th scope=col>SEASON</th><th scope=col>FORECAST_DATETIME</th></tr>\n",
       "\t<tr><th></th><th scope=col>&lt;chr&gt;</th><th scope=col>&lt;chr&gt;</th><th scope=col>&lt;dbl&gt;</th><th scope=col>&lt;dbl&gt;</th><th scope=col>&lt;dbl&gt;</th><th scope=col>&lt;dbl&gt;</th><th scope=col>&lt;dbl&gt;</th><th scope=col>&lt;dbl&gt;</th><th scope=col>&lt;dbl&gt;</th><th scope=col>&lt;dbl&gt;</th><th scope=col>&lt;chr&gt;</th><th scope=col>&lt;chr&gt;</th></tr>\n",
       "</thead>\n",
       "<tbody>\n",
       "\t<tr><th scope=row>1</th><td>Seoul</td><td>Clear</td><td>10000</td><td>12.32</td><td>10.91</td><td>12.32</td><td>1015</td><td>50</td><td>2.18</td><td>248</td><td>Spring</td><td>1618574400.0</td></tr>\n",
       "</tbody>\n",
       "</table>\n"
      ],
      "text/latex": [
       "A data.frame: 1 × 12\n",
       "\\begin{tabular}{r|llllllllllll}\n",
       "  & CITY & WEATHER & VISIBILITY & TEMP & TEMP\\_MIN & TEMP\\_MAX & PRESSURE & HUMIDITY & WIND\\_SPEED & WIND\\_DEG & SEASON & FORECAST\\_DATETIME\\\\\n",
       "  & <chr> & <chr> & <dbl> & <dbl> & <dbl> & <dbl> & <dbl> & <dbl> & <dbl> & <dbl> & <chr> & <chr>\\\\\n",
       "\\hline\n",
       "\t1 & Seoul & Clear & 10000 & 12.32 & 10.91 & 12.32 & 1015 & 50 & 2.18 & 248 & Spring & 1618574400.0\\\\\n",
       "\\end{tabular}\n"
      ],
      "text/markdown": [
       "\n",
       "A data.frame: 1 × 12\n",
       "\n",
       "| <!--/--> | CITY &lt;chr&gt; | WEATHER &lt;chr&gt; | VISIBILITY &lt;dbl&gt; | TEMP &lt;dbl&gt; | TEMP_MIN &lt;dbl&gt; | TEMP_MAX &lt;dbl&gt; | PRESSURE &lt;dbl&gt; | HUMIDITY &lt;dbl&gt; | WIND_SPEED &lt;dbl&gt; | WIND_DEG &lt;dbl&gt; | SEASON &lt;chr&gt; | FORECAST_DATETIME &lt;chr&gt; |\n",
       "|---|---|---|---|---|---|---|---|---|---|---|---|---|\n",
       "| 1 | Seoul | Clear | 10000 | 12.32 | 10.91 | 12.32 | 1015 | 50 | 2.18 | 248 | Spring | 1618574400.0 |\n",
       "\n"
      ],
      "text/plain": [
       "  CITY  WEATHER VISIBILITY TEMP  TEMP_MIN TEMP_MAX PRESSURE HUMIDITY WIND_SPEED\n",
       "1 Seoul Clear   10000      12.32 10.91    12.32    1015     50       2.18      \n",
       "  WIND_DEG SEASON FORECAST_DATETIME\n",
       "1 248      Spring 1618574400.0     "
      ]
     },
     "metadata": {},
     "output_type": "display_data"
    }
   ],
   "source": [
    "# provide your solution here\n",
    "dbGetQuery(conn, \"SELECT * FROM CITIES_WEATHER_FORECAST\n",
    "WHERE CITY = 'Seoul'\n",
    "Limit 1\")"
   ]
  },
  {
   "cell_type": "markdown",
   "metadata": {},
   "source": [
    "## Task 4 - Seasons\n",
    "#### Find which seasons are included in the seoul bike sharing dataset.\n"
   ]
  },
  {
   "cell_type": "markdown",
   "metadata": {},
   "source": [
    "### Solution 4\n"
   ]
  },
  {
   "cell_type": "code",
   "execution_count": 10,
   "metadata": {
    "tags": []
   },
   "outputs": [
    {
     "data": {
      "text/html": [
       "<table>\n",
       "<caption>A data.frame: 4 × 1</caption>\n",
       "<thead>\n",
       "\t<tr><th></th><th scope=col>SEASONS</th></tr>\n",
       "\t<tr><th></th><th scope=col>&lt;chr&gt;</th></tr>\n",
       "</thead>\n",
       "<tbody>\n",
       "\t<tr><th scope=row>1</th><td>Winter</td></tr>\n",
       "\t<tr><th scope=row>2</th><td>Spring</td></tr>\n",
       "\t<tr><th scope=row>3</th><td>Summer</td></tr>\n",
       "\t<tr><th scope=row>4</th><td>Autumn</td></tr>\n",
       "</tbody>\n",
       "</table>\n"
      ],
      "text/latex": [
       "A data.frame: 4 × 1\n",
       "\\begin{tabular}{r|l}\n",
       "  & SEASONS\\\\\n",
       "  & <chr>\\\\\n",
       "\\hline\n",
       "\t1 & Winter\\\\\n",
       "\t2 & Spring\\\\\n",
       "\t3 & Summer\\\\\n",
       "\t4 & Autumn\\\\\n",
       "\\end{tabular}\n"
      ],
      "text/markdown": [
       "\n",
       "A data.frame: 4 × 1\n",
       "\n",
       "| <!--/--> | SEASONS &lt;chr&gt; |\n",
       "|---|---|\n",
       "| 1 | Winter |\n",
       "| 2 | Spring |\n",
       "| 3 | Summer |\n",
       "| 4 | Autumn |\n",
       "\n"
      ],
      "text/plain": [
       "  SEASONS\n",
       "1 Winter \n",
       "2 Spring \n",
       "3 Summer \n",
       "4 Autumn "
      ]
     },
     "metadata": {},
     "output_type": "display_data"
    }
   ],
   "source": [
    "# provide your solution here\n",
    "dbGetQuery(conn, \"SELECT DISTINCT(SEASONS) FROM seoul_bike_sharing\")"
   ]
  },
  {
   "cell_type": "markdown",
   "metadata": {},
   "source": [
    "## Task 5 - Date Range\n",
    "#### Find the first and last dates in the Seoul Bike Sharing dataset.\n"
   ]
  },
  {
   "cell_type": "markdown",
   "metadata": {},
   "source": [
    "### Solution 5\n"
   ]
  },
  {
   "cell_type": "code",
   "execution_count": 11,
   "metadata": {
    "tags": []
   },
   "outputs": [
    {
     "data": {
      "text/html": [
       "<table>\n",
       "<caption>A data.frame: 1 × 2</caption>\n",
       "<thead>\n",
       "\t<tr><th></th><th scope=col>Start_Date</th><th scope=col>End_Date</th></tr>\n",
       "\t<tr><th></th><th scope=col>&lt;chr&gt;</th><th scope=col>&lt;chr&gt;</th></tr>\n",
       "</thead>\n",
       "<tbody>\n",
       "\t<tr><th scope=row>1</th><td>01/01/2018</td><td>31/12/2017</td></tr>\n",
       "</tbody>\n",
       "</table>\n"
      ],
      "text/latex": [
       "A data.frame: 1 × 2\n",
       "\\begin{tabular}{r|ll}\n",
       "  & Start\\_Date & End\\_Date\\\\\n",
       "  & <chr> & <chr>\\\\\n",
       "\\hline\n",
       "\t1 & 01/01/2018 & 31/12/2017\\\\\n",
       "\\end{tabular}\n"
      ],
      "text/markdown": [
       "\n",
       "A data.frame: 1 × 2\n",
       "\n",
       "| <!--/--> | Start_Date &lt;chr&gt; | End_Date &lt;chr&gt; |\n",
       "|---|---|---|\n",
       "| 1 | 01/01/2018 | 31/12/2017 |\n",
       "\n"
      ],
      "text/plain": [
       "  Start_Date End_Date  \n",
       "1 01/01/2018 31/12/2017"
      ]
     },
     "metadata": {},
     "output_type": "display_data"
    }
   ],
   "source": [
    "# provide your solution here\n",
    "dbGetQuery(conn, \"SELECT MIN(DATE) as Start_Date, MAX(DATE) as End_Date FROM seoul_bike_sharing\")"
   ]
  },
  {
   "cell_type": "markdown",
   "metadata": {},
   "source": [
    "## Task 6 - Subquery - 'all-time high'\n",
    "#### determine which date and hour had the most bike rentals.\n"
   ]
  },
  {
   "cell_type": "markdown",
   "metadata": {},
   "source": [
    "### Solution 6\n"
   ]
  },
  {
   "cell_type": "code",
   "execution_count": 12,
   "metadata": {
    "tags": []
   },
   "outputs": [
    {
     "data": {
      "text/html": [
       "<table>\n",
       "<caption>A data.frame: 1 × 3</caption>\n",
       "<thead>\n",
       "\t<tr><th></th><th scope=col>DATE</th><th scope=col>HOUR</th><th scope=col>Maximum_COUNT</th></tr>\n",
       "\t<tr><th></th><th scope=col>&lt;chr&gt;</th><th scope=col>&lt;dbl&gt;</th><th scope=col>&lt;dbl&gt;</th></tr>\n",
       "</thead>\n",
       "<tbody>\n",
       "\t<tr><th scope=row>1</th><td>19/06/2018</td><td>18</td><td>3556</td></tr>\n",
       "</tbody>\n",
       "</table>\n"
      ],
      "text/latex": [
       "A data.frame: 1 × 3\n",
       "\\begin{tabular}{r|lll}\n",
       "  & DATE & HOUR & Maximum\\_COUNT\\\\\n",
       "  & <chr> & <dbl> & <dbl>\\\\\n",
       "\\hline\n",
       "\t1 & 19/06/2018 & 18 & 3556\\\\\n",
       "\\end{tabular}\n"
      ],
      "text/markdown": [
       "\n",
       "A data.frame: 1 × 3\n",
       "\n",
       "| <!--/--> | DATE &lt;chr&gt; | HOUR &lt;dbl&gt; | Maximum_COUNT &lt;dbl&gt; |\n",
       "|---|---|---|---|\n",
       "| 1 | 19/06/2018 | 18 | 3556 |\n",
       "\n"
      ],
      "text/plain": [
       "  DATE       HOUR Maximum_COUNT\n",
       "1 19/06/2018 18   3556         "
      ]
     },
     "metadata": {},
     "output_type": "display_data"
    }
   ],
   "source": [
    "# provide your solution here\n",
    "dbGetQuery(conn, \"SELECT DATE, HOUR, RENTED_BIKE_COUNT as Maximum_COUNT FROM seoul_bike_sharing\n",
    "WHERE RENTED_BIKE_COUNT = (SELECT MAX(RENTED_BIKE_COUNT) FROM seoul_bike_sharing)\")"
   ]
  },
  {
   "cell_type": "markdown",
   "metadata": {},
   "source": [
    "## Task 7 - Hourly popularity and temperature by season\n",
    "#### Determine the average hourly temperature and the average number of bike rentals per hour over each season. List the top ten results by average bike count.\n"
   ]
  },
  {
   "cell_type": "markdown",
   "metadata": {},
   "source": [
    "### Solution 7\n"
   ]
  },
  {
   "cell_type": "code",
   "execution_count": 13,
   "metadata": {
    "tags": []
   },
   "outputs": [
    {
     "data": {
      "text/html": [
       "<table>\n",
       "<caption>A data.frame: 10 × 4</caption>\n",
       "<thead>\n",
       "\t<tr><th></th><th scope=col>SEASONS</th><th scope=col>HOUR</th><th scope=col>AVG(RENTED_BIKE_COUNT)</th><th scope=col>AVG(TEMPERATURE)</th></tr>\n",
       "\t<tr><th></th><th scope=col>&lt;chr&gt;</th><th scope=col>&lt;dbl&gt;</th><th scope=col>&lt;dbl&gt;</th><th scope=col>&lt;dbl&gt;</th></tr>\n",
       "</thead>\n",
       "<tbody>\n",
       "\t<tr><th scope=row>1</th><td>Summer</td><td>18</td><td>2135.141</td><td>29.38791</td></tr>\n",
       "\t<tr><th scope=row>2</th><td>Autumn</td><td>18</td><td>1983.333</td><td>16.03185</td></tr>\n",
       "\t<tr><th scope=row>3</th><td>Summer</td><td>19</td><td>1889.250</td><td>28.27378</td></tr>\n",
       "\t<tr><th scope=row>4</th><td>Summer</td><td>20</td><td>1801.924</td><td>27.06630</td></tr>\n",
       "\t<tr><th scope=row>5</th><td>Summer</td><td>21</td><td>1754.065</td><td>26.27826</td></tr>\n",
       "\t<tr><th scope=row>6</th><td>Spring</td><td>18</td><td>1689.311</td><td>15.97222</td></tr>\n",
       "\t<tr><th scope=row>7</th><td>Summer</td><td>22</td><td>1567.870</td><td>25.69891</td></tr>\n",
       "\t<tr><th scope=row>8</th><td>Autumn</td><td>17</td><td>1562.877</td><td>17.27778</td></tr>\n",
       "\t<tr><th scope=row>9</th><td>Summer</td><td>17</td><td>1526.293</td><td>30.07691</td></tr>\n",
       "\t<tr><th scope=row>10</th><td>Autumn</td><td>19</td><td>1515.568</td><td>15.06346</td></tr>\n",
       "</tbody>\n",
       "</table>\n"
      ],
      "text/latex": [
       "A data.frame: 10 × 4\n",
       "\\begin{tabular}{r|llll}\n",
       "  & SEASONS & HOUR & AVG(RENTED\\_BIKE\\_COUNT) & AVG(TEMPERATURE)\\\\\n",
       "  & <chr> & <dbl> & <dbl> & <dbl>\\\\\n",
       "\\hline\n",
       "\t1 & Summer & 18 & 2135.141 & 29.38791\\\\\n",
       "\t2 & Autumn & 18 & 1983.333 & 16.03185\\\\\n",
       "\t3 & Summer & 19 & 1889.250 & 28.27378\\\\\n",
       "\t4 & Summer & 20 & 1801.924 & 27.06630\\\\\n",
       "\t5 & Summer & 21 & 1754.065 & 26.27826\\\\\n",
       "\t6 & Spring & 18 & 1689.311 & 15.97222\\\\\n",
       "\t7 & Summer & 22 & 1567.870 & 25.69891\\\\\n",
       "\t8 & Autumn & 17 & 1562.877 & 17.27778\\\\\n",
       "\t9 & Summer & 17 & 1526.293 & 30.07691\\\\\n",
       "\t10 & Autumn & 19 & 1515.568 & 15.06346\\\\\n",
       "\\end{tabular}\n"
      ],
      "text/markdown": [
       "\n",
       "A data.frame: 10 × 4\n",
       "\n",
       "| <!--/--> | SEASONS &lt;chr&gt; | HOUR &lt;dbl&gt; | AVG(RENTED_BIKE_COUNT) &lt;dbl&gt; | AVG(TEMPERATURE) &lt;dbl&gt; |\n",
       "|---|---|---|---|---|\n",
       "| 1 | Summer | 18 | 2135.141 | 29.38791 |\n",
       "| 2 | Autumn | 18 | 1983.333 | 16.03185 |\n",
       "| 3 | Summer | 19 | 1889.250 | 28.27378 |\n",
       "| 4 | Summer | 20 | 1801.924 | 27.06630 |\n",
       "| 5 | Summer | 21 | 1754.065 | 26.27826 |\n",
       "| 6 | Spring | 18 | 1689.311 | 15.97222 |\n",
       "| 7 | Summer | 22 | 1567.870 | 25.69891 |\n",
       "| 8 | Autumn | 17 | 1562.877 | 17.27778 |\n",
       "| 9 | Summer | 17 | 1526.293 | 30.07691 |\n",
       "| 10 | Autumn | 19 | 1515.568 | 15.06346 |\n",
       "\n"
      ],
      "text/plain": [
       "   SEASONS HOUR AVG(RENTED_BIKE_COUNT) AVG(TEMPERATURE)\n",
       "1  Summer  18   2135.141               29.38791        \n",
       "2  Autumn  18   1983.333               16.03185        \n",
       "3  Summer  19   1889.250               28.27378        \n",
       "4  Summer  20   1801.924               27.06630        \n",
       "5  Summer  21   1754.065               26.27826        \n",
       "6  Spring  18   1689.311               15.97222        \n",
       "7  Summer  22   1567.870               25.69891        \n",
       "8  Autumn  17   1562.877               17.27778        \n",
       "9  Summer  17   1526.293               30.07691        \n",
       "10 Autumn  19   1515.568               15.06346        "
      ]
     },
     "metadata": {},
     "output_type": "display_data"
    }
   ],
   "source": [
    "# provide your solution here\n",
    "dbGetQuery(conn, \"SELECT SEASONS, HOUR, AVG(RENTED_BIKE_COUNT), AVG(TEMPERATURE) FROM seoul_bike_sharing GROUP BY SEASONS, HOUR ORDER BY AVG(RENTED_BIKE_COUNT) desc limit 10\")"
   ]
  },
  {
   "cell_type": "markdown",
   "metadata": {},
   "source": [
    "## Task 8 - Rental Seasonality\n",
    "#### Find the average hourly bike count during each season. \n",
    "Also include the minimum, maximum, and standard deviation of the hourly bike count for each season. \n",
    "\n",
    "> Hint : Use the SQRT(AVG(col*col) - AVG(col)*AVG(col) ) function where col refers to your column name for finding the standard deviation\n"
   ]
  },
  {
   "cell_type": "markdown",
   "metadata": {},
   "source": [
    "### Solution 8\n"
   ]
  },
  {
   "cell_type": "code",
   "execution_count": 28,
   "metadata": {
    "tags": []
   },
   "outputs": [
    {
     "data": {
      "text/html": [
       "<table>\n",
       "<caption>A data.frame: 4 × 4</caption>\n",
       "<thead>\n",
       "\t<tr><th></th><th scope=col>SEASONS</th><th scope=col>AVG_S_COUNT</th><th scope=col>MIN_S_COUNT</th><th scope=col>MAX_S_COUNT</th></tr>\n",
       "\t<tr><th></th><th scope=col>&lt;chr&gt;</th><th scope=col>&lt;dbl&gt;</th><th scope=col>&lt;dbl&gt;</th><th scope=col>&lt;dbl&gt;</th></tr>\n",
       "</thead>\n",
       "<tbody>\n",
       "\t<tr><th scope=row>1</th><td>Summer</td><td>1034.0734</td><td>9</td><td>3556</td></tr>\n",
       "\t<tr><th scope=row>2</th><td>Autumn</td><td> 924.1105</td><td>2</td><td>3298</td></tr>\n",
       "\t<tr><th scope=row>3</th><td>Spring</td><td> 746.2542</td><td>2</td><td>3251</td></tr>\n",
       "\t<tr><th scope=row>4</th><td>Winter</td><td> 225.5412</td><td>3</td><td> 937</td></tr>\n",
       "</tbody>\n",
       "</table>\n"
      ],
      "text/latex": [
       "A data.frame: 4 × 4\n",
       "\\begin{tabular}{r|llll}\n",
       "  & SEASONS & AVG\\_S\\_COUNT & MIN\\_S\\_COUNT & MAX\\_S\\_COUNT\\\\\n",
       "  & <chr> & <dbl> & <dbl> & <dbl>\\\\\n",
       "\\hline\n",
       "\t1 & Summer & 1034.0734 & 9 & 3556\\\\\n",
       "\t2 & Autumn &  924.1105 & 2 & 3298\\\\\n",
       "\t3 & Spring &  746.2542 & 2 & 3251\\\\\n",
       "\t4 & Winter &  225.5412 & 3 &  937\\\\\n",
       "\\end{tabular}\n"
      ],
      "text/markdown": [
       "\n",
       "A data.frame: 4 × 4\n",
       "\n",
       "| <!--/--> | SEASONS &lt;chr&gt; | AVG_S_COUNT &lt;dbl&gt; | MIN_S_COUNT &lt;dbl&gt; | MAX_S_COUNT &lt;dbl&gt; |\n",
       "|---|---|---|---|---|\n",
       "| 1 | Summer | 1034.0734 | 9 | 3556 |\n",
       "| 2 | Autumn |  924.1105 | 2 | 3298 |\n",
       "| 3 | Spring |  746.2542 | 2 | 3251 |\n",
       "| 4 | Winter |  225.5412 | 3 |  937 |\n",
       "\n"
      ],
      "text/plain": [
       "  SEASONS AVG_S_COUNT MIN_S_COUNT MAX_S_COUNT\n",
       "1 Summer  1034.0734   9           3556       \n",
       "2 Autumn   924.1105   2           3298       \n",
       "3 Spring   746.2542   2           3251       \n",
       "4 Winter   225.5412   3            937       "
      ]
     },
     "metadata": {},
     "output_type": "display_data"
    }
   ],
   "source": [
    "# provide your solution here\n",
    "\n",
    "dbGetQuery(conn, \" SELECT SEASONS, AVG(RENTED_BIKE_COUNT) as AVG_S_COUNT, MIN(RENTED_BIKE_COUNT) as MIN_S_COUNT, MAX(RENTED_BIKE_COUNT) as MAX_S_COUNT FROM seoul_bike_sharing\n",
    "group by (SEASONS)\n",
    "Order by AVG_S_COUNT desc\")\n",
    "\n",
    "# No Standard deviation function available in SQLlite so I will not include it.\n"
   ]
  },
  {
   "cell_type": "markdown",
   "metadata": {},
   "source": [
    "Let's explore a bit and see what might be the most significant contributing factors in terms of the provided data.\n"
   ]
  },
  {
   "cell_type": "markdown",
   "metadata": {},
   "source": [
    "## Task 9 - Weather Seasonality\n",
    "#### Consider the weather over each season. On average, what were the TEMPERATURE, HUMIDITY, WIND_SPEED, VISIBILITY, DEW_POINT_TEMPERATURE, SOLAR_RADIATION, RAINFALL, and SNOWFALL per season?\n",
    "Include the average bike count as well , and rank the results by average bike count so you can see if it is correlated with the weather at all. \n"
   ]
  },
  {
   "cell_type": "markdown",
   "metadata": {},
   "source": [
    "### Solution 9\n"
   ]
  },
  {
   "cell_type": "code",
   "execution_count": 29,
   "metadata": {
    "tags": []
   },
   "outputs": [
    {
     "data": {
      "text/html": [
       "<table>\n",
       "<caption>A data.frame: 4 × 10</caption>\n",
       "<thead>\n",
       "\t<tr><th></th><th scope=col>SEASONS</th><th scope=col>AVG_S_COUNT</th><th scope=col>AVG_S_TEMP</th><th scope=col>AVG_S_HUMIDITY</th><th scope=col>AVG_WIND_SPEED</th><th scope=col>AVG_VISIBILITY</th><th scope=col>AVG_DEW_POINT</th><th scope=col>AVG_SOLAR_RADIATION</th><th scope=col>AVG_RAINFALL</th><th scope=col>AVG_SNOWFALL</th></tr>\n",
       "\t<tr><th></th><th scope=col>&lt;chr&gt;</th><th scope=col>&lt;dbl&gt;</th><th scope=col>&lt;dbl&gt;</th><th scope=col>&lt;dbl&gt;</th><th scope=col>&lt;dbl&gt;</th><th scope=col>&lt;dbl&gt;</th><th scope=col>&lt;dbl&gt;</th><th scope=col>&lt;dbl&gt;</th><th scope=col>&lt;dbl&gt;</th><th scope=col>&lt;dbl&gt;</th></tr>\n",
       "</thead>\n",
       "<tbody>\n",
       "\t<tr><th scope=row>1</th><td>Summer</td><td>1034.0734</td><td>26.587711</td><td>64.98143</td><td>1.609420</td><td>1501.745</td><td> 18.750136</td><td>0.7612545</td><td>0.25348732</td><td>0.00000000</td></tr>\n",
       "\t<tr><th scope=row>2</th><td>Autumn</td><td> 924.1105</td><td>13.821580</td><td>59.04491</td><td>1.492101</td><td>1558.174</td><td>  5.150594</td><td>0.5227827</td><td>0.11765617</td><td>0.06350026</td></tr>\n",
       "\t<tr><th scope=row>3</th><td>Spring</td><td> 746.2542</td><td>13.021685</td><td>58.75833</td><td>1.857778</td><td>1240.912</td><td>  4.091389</td><td>0.6803009</td><td>0.18694444</td><td>0.00000000</td></tr>\n",
       "\t<tr><th scope=row>4</th><td>Winter</td><td> 225.5412</td><td>-2.540463</td><td>49.74491</td><td>1.922685</td><td>1445.987</td><td>-12.416667</td><td>0.2981806</td><td>0.03282407</td><td>0.24750000</td></tr>\n",
       "</tbody>\n",
       "</table>\n"
      ],
      "text/latex": [
       "A data.frame: 4 × 10\n",
       "\\begin{tabular}{r|llllllllll}\n",
       "  & SEASONS & AVG\\_S\\_COUNT & AVG\\_S\\_TEMP & AVG\\_S\\_HUMIDITY & AVG\\_WIND\\_SPEED & AVG\\_VISIBILITY & AVG\\_DEW\\_POINT & AVG\\_SOLAR\\_RADIATION & AVG\\_RAINFALL & AVG\\_SNOWFALL\\\\\n",
       "  & <chr> & <dbl> & <dbl> & <dbl> & <dbl> & <dbl> & <dbl> & <dbl> & <dbl> & <dbl>\\\\\n",
       "\\hline\n",
       "\t1 & Summer & 1034.0734 & 26.587711 & 64.98143 & 1.609420 & 1501.745 &  18.750136 & 0.7612545 & 0.25348732 & 0.00000000\\\\\n",
       "\t2 & Autumn &  924.1105 & 13.821580 & 59.04491 & 1.492101 & 1558.174 &   5.150594 & 0.5227827 & 0.11765617 & 0.06350026\\\\\n",
       "\t3 & Spring &  746.2542 & 13.021685 & 58.75833 & 1.857778 & 1240.912 &   4.091389 & 0.6803009 & 0.18694444 & 0.00000000\\\\\n",
       "\t4 & Winter &  225.5412 & -2.540463 & 49.74491 & 1.922685 & 1445.987 & -12.416667 & 0.2981806 & 0.03282407 & 0.24750000\\\\\n",
       "\\end{tabular}\n"
      ],
      "text/markdown": [
       "\n",
       "A data.frame: 4 × 10\n",
       "\n",
       "| <!--/--> | SEASONS &lt;chr&gt; | AVG_S_COUNT &lt;dbl&gt; | AVG_S_TEMP &lt;dbl&gt; | AVG_S_HUMIDITY &lt;dbl&gt; | AVG_WIND_SPEED &lt;dbl&gt; | AVG_VISIBILITY &lt;dbl&gt; | AVG_DEW_POINT &lt;dbl&gt; | AVG_SOLAR_RADIATION &lt;dbl&gt; | AVG_RAINFALL &lt;dbl&gt; | AVG_SNOWFALL &lt;dbl&gt; |\n",
       "|---|---|---|---|---|---|---|---|---|---|---|\n",
       "| 1 | Summer | 1034.0734 | 26.587711 | 64.98143 | 1.609420 | 1501.745 |  18.750136 | 0.7612545 | 0.25348732 | 0.00000000 |\n",
       "| 2 | Autumn |  924.1105 | 13.821580 | 59.04491 | 1.492101 | 1558.174 |   5.150594 | 0.5227827 | 0.11765617 | 0.06350026 |\n",
       "| 3 | Spring |  746.2542 | 13.021685 | 58.75833 | 1.857778 | 1240.912 |   4.091389 | 0.6803009 | 0.18694444 | 0.00000000 |\n",
       "| 4 | Winter |  225.5412 | -2.540463 | 49.74491 | 1.922685 | 1445.987 | -12.416667 | 0.2981806 | 0.03282407 | 0.24750000 |\n",
       "\n"
      ],
      "text/plain": [
       "  SEASONS AVG_S_COUNT AVG_S_TEMP AVG_S_HUMIDITY AVG_WIND_SPEED AVG_VISIBILITY\n",
       "1 Summer  1034.0734   26.587711  64.98143       1.609420       1501.745      \n",
       "2 Autumn   924.1105   13.821580  59.04491       1.492101       1558.174      \n",
       "3 Spring   746.2542   13.021685  58.75833       1.857778       1240.912      \n",
       "4 Winter   225.5412   -2.540463  49.74491       1.922685       1445.987      \n",
       "  AVG_DEW_POINT AVG_SOLAR_RADIATION AVG_RAINFALL AVG_SNOWFALL\n",
       "1  18.750136    0.7612545           0.25348732   0.00000000  \n",
       "2   5.150594    0.5227827           0.11765617   0.06350026  \n",
       "3   4.091389    0.6803009           0.18694444   0.00000000  \n",
       "4 -12.416667    0.2981806           0.03282407   0.24750000  "
      ]
     },
     "metadata": {},
     "output_type": "display_data"
    }
   ],
   "source": [
    "# provide your solution here\n",
    "dbGetQuery(conn,\" SELECT SEASONS, AVG(RENTED_BIKE_COUNT) as AVG_S_COUNT, AVG(TEMPERATURE) as AVG_S_TEMP, AVG(HUMIDITY) as AVG_S_HUMIDITY, AVG(WIND_SPEED) as AVG_WIND_SPEED, AVG(VISIBILITY) as AVG_VISIBILITY, AVG(DEW_POINT_TEMPERATURE) as AVG_DEW_POINT, AVG(SOLAR_RADIATION) as AVG_SOLAR_RADIATION, AVG(RAINFALL) as AVG_RAINFALL, AVG(SNOWFALL) as AVG_SNOWFALL   FROM seoul_bike_sharing\n",
    "group by (SEASONS)\n",
    "Order by AVG_S_COUNT desc\")"
   ]
  },
  {
   "cell_type": "markdown",
   "metadata": {},
   "source": [
    "## Task 10 - Total Bike Count and City Info for Seoul\n",
    "#### Use an implicit join across the WORLD_CITIES and the BIKE_SHARING_SYSTEMS tables to determine the total number of bikes avaialble in Seoul, plus the following city information about Seoul: CITY, COUNTRY, LAT, LON, POPULATION, in a single view.\n",
    "Notice that in this case, the CITY column will work for the WORLD_CITIES table, but in general you would have to use the CITY_ASCII column.\n"
   ]
  },
  {
   "cell_type": "markdown",
   "metadata": {},
   "source": [
    "### Solution 10\n"
   ]
  },
  {
   "cell_type": "code",
   "execution_count": 30,
   "metadata": {
    "tags": []
   },
   "outputs": [
    {
     "data": {
      "text/html": [
       "<table>\n",
       "<caption>A data.frame: 1 × 6</caption>\n",
       "<thead>\n",
       "\t<tr><th></th><th scope=col>BICYCLES</th><th scope=col>CITY</th><th scope=col>COUNTRY</th><th scope=col>LAT</th><th scope=col>LNG</th><th scope=col>POPULATION</th></tr>\n",
       "\t<tr><th></th><th scope=col>&lt;dbl&gt;</th><th scope=col>&lt;chr&gt;</th><th scope=col>&lt;chr&gt;</th><th scope=col>&lt;dbl&gt;</th><th scope=col>&lt;dbl&gt;</th><th scope=col>&lt;dbl&gt;</th></tr>\n",
       "</thead>\n",
       "<tbody>\n",
       "\t<tr><th scope=row>1</th><td>20000</td><td>Seoul</td><td>South Korea</td><td>37.5833</td><td>127</td><td>21794000</td></tr>\n",
       "</tbody>\n",
       "</table>\n"
      ],
      "text/latex": [
       "A data.frame: 1 × 6\n",
       "\\begin{tabular}{r|llllll}\n",
       "  & BICYCLES & CITY & COUNTRY & LAT & LNG & POPULATION\\\\\n",
       "  & <dbl> & <chr> & <chr> & <dbl> & <dbl> & <dbl>\\\\\n",
       "\\hline\n",
       "\t1 & 20000 & Seoul & South Korea & 37.5833 & 127 & 21794000\\\\\n",
       "\\end{tabular}\n"
      ],
      "text/markdown": [
       "\n",
       "A data.frame: 1 × 6\n",
       "\n",
       "| <!--/--> | BICYCLES &lt;dbl&gt; | CITY &lt;chr&gt; | COUNTRY &lt;chr&gt; | LAT &lt;dbl&gt; | LNG &lt;dbl&gt; | POPULATION &lt;dbl&gt; |\n",
       "|---|---|---|---|---|---|---|\n",
       "| 1 | 20000 | Seoul | South Korea | 37.5833 | 127 | 21794000 |\n",
       "\n"
      ],
      "text/plain": [
       "  BICYCLES CITY  COUNTRY     LAT     LNG POPULATION\n",
       "1 20000    Seoul South Korea 37.5833 127 21794000  "
      ]
     },
     "metadata": {},
     "output_type": "display_data"
    }
   ],
   "source": [
    "# provide your solution here\n",
    "dbGetQuery(conn, \"SELECT B.BICYCLES, B.CITY, B.COUNTRY, W.LAT, W.LNG, W.POPULATION  FROM BIKE_SHARING_SYSTEMS AS B\n",
    "LEFT JOIN WORLD_CITIES AS W ON B.CITY = W.CITY_ASCII\n",
    "WHERE B.CITY = 'Seoul'\")"
   ]
  },
  {
   "cell_type": "markdown",
   "metadata": {},
   "source": [
    "## Task 11 - Find all city names and coordinates with comparable bike scale to Seoul's bike sharing system\n",
    "#### Find all cities with total bike counts between 15000 and 20000. Return the city and country names, plus the coordinates (LAT, LNG), population, and number of bicycles for each city.\n",
    "Later we will ask you to visualize these similar cities on leaflet, with some weather data.\n"
   ]
  },
  {
   "cell_type": "markdown",
   "metadata": {},
   "source": [
    "### Solution 11\n"
   ]
  },
  {
   "cell_type": "code",
   "execution_count": 31,
   "metadata": {
    "tags": []
   },
   "outputs": [
    {
     "data": {
      "text/html": [
       "<table>\n",
       "<caption>A data.frame: 9 × 6</caption>\n",
       "<thead>\n",
       "\t<tr><th></th><th scope=col>BICYCLES</th><th scope=col>CITY</th><th scope=col>COUNTRY</th><th scope=col>LAT</th><th scope=col>LNG</th><th scope=col>POPULATION</th></tr>\n",
       "\t<tr><th></th><th scope=col>&lt;dbl&gt;</th><th scope=col>&lt;chr&gt;</th><th scope=col>&lt;chr&gt;</th><th scope=col>&lt;dbl&gt;</th><th scope=col>&lt;dbl&gt;</th><th scope=col>&lt;dbl&gt;</th></tr>\n",
       "</thead>\n",
       "<tbody>\n",
       "\t<tr><th scope=row>1</th><td>20000</td><td>Seoul   </td><td>South Korea</td><td>37.5833</td><td>127.0000</td><td>21794000</td></tr>\n",
       "\t<tr><th scope=row>2</th><td>20000</td><td>Kunshan </td><td>China      </td><td>     NA</td><td>      NA</td><td>      NA</td></tr>\n",
       "\t<tr><th scope=row>3</th><td>20000</td><td>Weifang </td><td>China      </td><td>36.7167</td><td>119.1000</td><td> 9373000</td></tr>\n",
       "\t<tr><th scope=row>4</th><td>20000</td><td>Xi'an   </td><td>China      </td><td>34.2667</td><td>108.9000</td><td> 7135000</td></tr>\n",
       "\t<tr><th scope=row>5</th><td>20000</td><td>Zhuzhou </td><td>China      </td><td>27.8407</td><td>113.1469</td><td> 3855609</td></tr>\n",
       "\t<tr><th scope=row>6</th><td>19165</td><td>Shanghai</td><td>China      </td><td>31.1667</td><td>121.4667</td><td>22120000</td></tr>\n",
       "\t<tr><th scope=row>7</th><td>18000</td><td>Xuzhou  </td><td>China      </td><td>     NA</td><td>      NA</td><td>      NA</td></tr>\n",
       "\t<tr><th scope=row>8</th><td>16000</td><td>Beijing </td><td>China      </td><td>39.9050</td><td>116.3914</td><td>19433000</td></tr>\n",
       "\t<tr><th scope=row>9</th><td>15000</td><td>Ningbo  </td><td>China      </td><td>29.8750</td><td>121.5492</td><td> 7639000</td></tr>\n",
       "</tbody>\n",
       "</table>\n"
      ],
      "text/latex": [
       "A data.frame: 9 × 6\n",
       "\\begin{tabular}{r|llllll}\n",
       "  & BICYCLES & CITY & COUNTRY & LAT & LNG & POPULATION\\\\\n",
       "  & <dbl> & <chr> & <chr> & <dbl> & <dbl> & <dbl>\\\\\n",
       "\\hline\n",
       "\t1 & 20000 & Seoul    & South Korea & 37.5833 & 127.0000 & 21794000\\\\\n",
       "\t2 & 20000 & Kunshan  & China       &      NA &       NA &       NA\\\\\n",
       "\t3 & 20000 & Weifang  & China       & 36.7167 & 119.1000 &  9373000\\\\\n",
       "\t4 & 20000 & Xi'an    & China       & 34.2667 & 108.9000 &  7135000\\\\\n",
       "\t5 & 20000 & Zhuzhou  & China       & 27.8407 & 113.1469 &  3855609\\\\\n",
       "\t6 & 19165 & Shanghai & China       & 31.1667 & 121.4667 & 22120000\\\\\n",
       "\t7 & 18000 & Xuzhou   & China       &      NA &       NA &       NA\\\\\n",
       "\t8 & 16000 & Beijing  & China       & 39.9050 & 116.3914 & 19433000\\\\\n",
       "\t9 & 15000 & Ningbo   & China       & 29.8750 & 121.5492 &  7639000\\\\\n",
       "\\end{tabular}\n"
      ],
      "text/markdown": [
       "\n",
       "A data.frame: 9 × 6\n",
       "\n",
       "| <!--/--> | BICYCLES &lt;dbl&gt; | CITY &lt;chr&gt; | COUNTRY &lt;chr&gt; | LAT &lt;dbl&gt; | LNG &lt;dbl&gt; | POPULATION &lt;dbl&gt; |\n",
       "|---|---|---|---|---|---|---|\n",
       "| 1 | 20000 | Seoul    | South Korea | 37.5833 | 127.0000 | 21794000 |\n",
       "| 2 | 20000 | Kunshan  | China       |      NA |       NA |       NA |\n",
       "| 3 | 20000 | Weifang  | China       | 36.7167 | 119.1000 |  9373000 |\n",
       "| 4 | 20000 | Xi'an    | China       | 34.2667 | 108.9000 |  7135000 |\n",
       "| 5 | 20000 | Zhuzhou  | China       | 27.8407 | 113.1469 |  3855609 |\n",
       "| 6 | 19165 | Shanghai | China       | 31.1667 | 121.4667 | 22120000 |\n",
       "| 7 | 18000 | Xuzhou   | China       |      NA |       NA |       NA |\n",
       "| 8 | 16000 | Beijing  | China       | 39.9050 | 116.3914 | 19433000 |\n",
       "| 9 | 15000 | Ningbo   | China       | 29.8750 | 121.5492 |  7639000 |\n",
       "\n"
      ],
      "text/plain": [
       "  BICYCLES CITY     COUNTRY     LAT     LNG      POPULATION\n",
       "1 20000    Seoul    South Korea 37.5833 127.0000 21794000  \n",
       "2 20000    Kunshan  China            NA       NA       NA  \n",
       "3 20000    Weifang  China       36.7167 119.1000  9373000  \n",
       "4 20000    Xi'an    China       34.2667 108.9000  7135000  \n",
       "5 20000    Zhuzhou  China       27.8407 113.1469  3855609  \n",
       "6 19165    Shanghai China       31.1667 121.4667 22120000  \n",
       "7 18000    Xuzhou   China            NA       NA       NA  \n",
       "8 16000    Beijing  China       39.9050 116.3914 19433000  \n",
       "9 15000    Ningbo   China       29.8750 121.5492  7639000  "
      ]
     },
     "metadata": {},
     "output_type": "display_data"
    }
   ],
   "source": [
    "# provide your solution here\n",
    "dbGetQuery(conn, \"SELECT B.BICYCLES, B.CITY, B.COUNTRY, W.LAT, W.LNG, W.POPULATION  FROM BIKE_SHARING_SYSTEMS AS B\n",
    "LEFT JOIN WORLD_CITIES AS W ON B.CITY = W.CITY_ASCII\n",
    "WHERE B.CITY = 'Seoul' OR B.BICYCLES BETWEEN 15000 AND 20000\n",
    "order by B.BICYCLES desc\")"
   ]
  },
  {
   "cell_type": "code",
   "execution_count": 34,
   "metadata": {
    "tags": []
   },
   "outputs": [
    {
     "data": {
      "text/html": [
       "TRUE"
      ],
      "text/latex": [
       "TRUE"
      ],
      "text/markdown": [
       "TRUE"
      ],
      "text/plain": [
       "[1] TRUE"
      ]
     },
     "metadata": {},
     "output_type": "display_data"
    }
   ],
   "source": [
    "\n",
    "dbDisconnect(conn)\n"
   ]
  },
  {
   "cell_type": "markdown",
   "metadata": {},
   "source": [
    "## Author(s)\n",
    "\n",
    "<h4> Jeff Grossman </h4>\n",
    "<h4> Lakshmi Holla </h4>\n",
    "\n",
    "\n",
    "## Other Contributor(s)\n",
    "\n",
    "<h4>  Malika Singla </h4>\n",
    "\n",
    "<!--## Change log\n",
    "\n",
    "| Date (YYYY-MM-DD) | Version | Changed By | Change Description                 |\n",
    "| ----------------- | ------- | ---------- | ---------------------------------- |\n",
    "| 2022-03-03        | 1.0     |Lakshmi Holla  | Created lab using sqlite3          |-->\n",
    "\n",
    "## <h3 align=\"center\"> © IBM Corporation 2022. All rights reserved. <h3/>\n"
   ]
  },
  {
   "cell_type": "code",
   "execution_count": null,
   "metadata": {},
   "outputs": [],
   "source": []
  }
 ],
 "metadata": {
  "kernelspec": {
   "display_name": "R",
   "language": "R",
   "name": "conda-env-r-r"
  },
  "language_info": {
   "codemirror_mode": "r",
   "file_extension": ".r",
   "mimetype": "text/x-r-source",
   "name": "R",
   "pygments_lexer": "r",
   "version": "3.5.1"
  },
  "prev_pub_hash": "aec4d69ac9a601945e548ceeb943a3da719b90cac1cddd3d200b7d1ab9ce6d13"
 },
 "nbformat": 4,
 "nbformat_minor": 4
}
